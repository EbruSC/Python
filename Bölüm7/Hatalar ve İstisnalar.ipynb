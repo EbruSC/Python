{
 "cells": [
  {
   "cell_type": "code",
   "execution_count": 2,
   "metadata": {},
   "outputs": [
    {
     "ename": "NameError",
     "evalue": "name 'yaz' is not defined",
     "output_type": "error",
     "traceback": [
      "\u001b[1;31m---------------------------------------------------------------------------\u001b[0m",
      "\u001b[1;31mNameError\u001b[0m                                 Traceback (most recent call last)",
      "\u001b[1;32m<ipython-input-2-1fc0f757317a>\u001b[0m in \u001b[0;36m<module>\u001b[1;34m\u001b[0m\n\u001b[1;32m----> 1\u001b[1;33m \u001b[0mprint\u001b[0m\u001b[1;33m(\u001b[0m\u001b[0myaz\u001b[0m\u001b[1;33m)\u001b[0m \u001b[1;31m#tanımlı değil - Name Error hatası\u001b[0m\u001b[1;33m\u001b[0m\u001b[1;33m\u001b[0m\u001b[0m\n\u001b[0m",
      "\u001b[1;31mNameError\u001b[0m: name 'yaz' is not defined"
     ]
    }
   ],
   "source": [
    "print(yaz) #tanımlı değil - Name Error hatası"
   ]
  },
  {
   "cell_type": "code",
   "execution_count": 4,
   "metadata": {},
   "outputs": [
    {
     "ename": "ValueError",
     "evalue": "invalid literal for int() with base 10: 'çm215'",
     "output_type": "error",
     "traceback": [
      "\u001b[1;31m---------------------------------------------------------------------------\u001b[0m",
      "\u001b[1;31mValueError\u001b[0m                                Traceback (most recent call last)",
      "\u001b[1;32m<ipython-input-4-439990f9572e>\u001b[0m in \u001b[0;36m<module>\u001b[1;34m\u001b[0m\n\u001b[1;32m----> 1\u001b[1;33m \u001b[0mint\u001b[0m\u001b[1;33m(\u001b[0m\u001b[1;34m\"çm215\"\u001b[0m\u001b[1;33m)\u001b[0m \u001b[1;31m#Value Error hatası\u001b[0m\u001b[1;33m\u001b[0m\u001b[1;33m\u001b[0m\u001b[0m\n\u001b[0m",
      "\u001b[1;31mValueError\u001b[0m: invalid literal for int() with base 10: 'çm215'"
     ]
    }
   ],
   "source": [
    "int(\"çm215\") #Value Error hatası"
   ]
  },
  {
   "cell_type": "code",
   "execution_count": 8,
   "metadata": {},
   "outputs": [
    {
     "ename": "ZeroDivisionError",
     "evalue": "division by zero",
     "output_type": "error",
     "traceback": [
      "\u001b[1;31m---------------------------------------------------------------------------\u001b[0m",
      "\u001b[1;31mZeroDivisionError\u001b[0m                         Traceback (most recent call last)",
      "\u001b[1;32m<ipython-input-8-0e0358e23674>\u001b[0m in \u001b[0;36m<module>\u001b[1;34m\u001b[0m\n\u001b[1;32m----> 1\u001b[1;33m \u001b[1;36m5\u001b[0m\u001b[1;33m/\u001b[0m\u001b[1;36m0\u001b[0m \u001b[1;31m# 0'a bölünemez hatası - Zero Division Error\u001b[0m\u001b[1;33m\u001b[0m\u001b[1;33m\u001b[0m\u001b[0m\n\u001b[0m",
      "\u001b[1;31mZeroDivisionError\u001b[0m: division by zero"
     ]
    }
   ],
   "source": [
    "5/0 # 0'a bölünemez hatası - Zero Division Error"
   ]
  },
  {
   "cell_type": "code",
   "execution_count": 11,
   "metadata": {},
   "outputs": [
    {
     "ename": "SyntaxError",
     "evalue": "invalid syntax (<ipython-input-11-3241589ad408>, line 1)",
     "output_type": "error",
     "traceback": [
      "\u001b[1;36m  File \u001b[1;32m\"<ipython-input-11-3241589ad408>\"\u001b[1;36m, line \u001b[1;32m1\u001b[0m\n\u001b[1;33m    print(\"Ebru\"Somuncu) #Syntax Error\u001b[0m\n\u001b[1;37m                      ^\u001b[0m\n\u001b[1;31mSyntaxError\u001b[0m\u001b[1;31m:\u001b[0m invalid syntax\n"
     ]
    }
   ],
   "source": [
    "print(\"Ebru\"Somuncu) #Syntax Error"
   ]
  },
  {
   "cell_type": "markdown",
   "metadata": {},
   "source": [
    "    HATA YAKALAMA - TRY,EXCEPT,FİNALLY"
   ]
  },
  {
   "cell_type": "markdown",
   "metadata": {},
   "source": [
    "try, except blokları:\n",
    "try:\n",
    "    kodlar....\n",
    "    ....\n",
    "    ....\n",
    "except Hata1:\n",
    "    çalışacak kodlar\n",
    "except Hata2:\n",
    "    çalışacak kodlar"
   ]
  },
  {
   "cell_type": "code",
   "execution_count": 12,
   "metadata": {},
   "outputs": [
    {
     "ename": "ValueError",
     "evalue": "invalid literal for int() with base 10: 's123'",
     "output_type": "error",
     "traceback": [
      "\u001b[1;31m---------------------------------------------------------------------------\u001b[0m",
      "\u001b[1;31mValueError\u001b[0m                                Traceback (most recent call last)",
      "\u001b[1;32m<ipython-input-12-973e5fae297c>\u001b[0m in \u001b[0;36m<module>\u001b[1;34m\u001b[0m\n\u001b[1;32m----> 1\u001b[1;33m \u001b[0msayı\u001b[0m\u001b[1;33m=\u001b[0m\u001b[0mint\u001b[0m\u001b[1;33m(\u001b[0m\u001b[1;34m\"s123\"\u001b[0m\u001b[1;33m)\u001b[0m\u001b[1;33m\u001b[0m\u001b[1;33m\u001b[0m\u001b[0m\n\u001b[0m",
      "\u001b[1;31mValueError\u001b[0m: invalid literal for int() with base 10: 's123'"
     ]
    }
   ],
   "source": [
    "sayı=int(\"s123\")"
   ]
  },
  {
   "cell_type": "code",
   "execution_count": 13,
   "metadata": {},
   "outputs": [
    {
     "name": "stdout",
     "output_type": "stream",
     "text": [
      "Hata oluştu!!!\n",
      "Program sonlandı..\n"
     ]
    }
   ],
   "source": [
    "try:\n",
    "    sayı=int(\"s123\")\n",
    "    print(\"Program çalışıyor..\")\n",
    "except:\n",
    "    print(\"Hata oluştu!!!\")\n",
    "print(\"Program sonlandı..\")"
   ]
  },
  {
   "cell_type": "code",
   "execution_count": 14,
   "metadata": {},
   "outputs": [
    {
     "name": "stdout",
     "output_type": "stream",
     "text": [
      "Program çalışıyor..\n",
      "Program sonlandı..\n"
     ]
    }
   ],
   "source": [
    "try:\n",
    "    sayı=int(\"123\")\n",
    "    print(\"Program çalışıyor..\")\n",
    "except:\n",
    "    print(\"Hata oluştu!!!\")\n",
    "print(\"Program sonlandı..\")"
   ]
  },
  {
   "cell_type": "code",
   "execution_count": 16,
   "metadata": {},
   "outputs": [
    {
     "name": "stdout",
     "output_type": "stream",
     "text": [
      "ValueError hatası oluştu!!!\n",
      "Program sonlandı..\n"
     ]
    }
   ],
   "source": [
    "try:\n",
    "    sayı=int(\"s123\")\n",
    "    print(\"Program çalışıyor..\")\n",
    "except ValueError:\n",
    "    print(\"ValueError hatası oluştu!!!\")\n",
    "print(\"Program sonlandı..\")"
   ]
  },
  {
   "cell_type": "code",
   "execution_count": 17,
   "metadata": {},
   "outputs": [
    {
     "name": "stdout",
     "output_type": "stream",
     "text": [
      "Sayı1:5\n",
      "Sayı2:0\n",
      "Sayı 0'a bölünemez!\n",
      "İşlemler Sonlandı..\n"
     ]
    }
   ],
   "source": [
    "try:\n",
    "    a=int(input(\"Sayı1:\"))\n",
    "    b=int(input(\"Sayı2:\"))\n",
    "    print(a/b)\n",
    "except ValueError:\n",
    "    print(\"Lütfen doğru input giriniz..\")\n",
    "except ZeroDivisionError:\n",
    "    print(\"Sayı 0'a bölünemez!\")\n",
    "print(\"İşlemler Sonlandı..\")"
   ]
  },
  {
   "cell_type": "code",
   "execution_count": 18,
   "metadata": {},
   "outputs": [
    {
     "name": "stdout",
     "output_type": "stream",
     "text": [
      "Sayı1:4\n",
      "Sayı2:1a\n",
      "Lütfen doğru input giriniz..\n",
      "İşlemler Sonlandı..\n"
     ]
    }
   ],
   "source": [
    "try:\n",
    "    a=int(input(\"Sayı1:\"))\n",
    "    b=int(input(\"Sayı2:\"))\n",
    "    print(a/b)\n",
    "except ValueError:\n",
    "    print(\"Lütfen doğru input giriniz..\")\n",
    "except ZeroDivisionError:\n",
    "    print(\"Sayı 0'a bölünemez!\")\n",
    "print(\"İşlemler Sonlandı..\")"
   ]
  },
  {
   "cell_type": "code",
   "execution_count": 20,
   "metadata": {},
   "outputs": [
    {
     "name": "stdout",
     "output_type": "stream",
     "text": [
      "Sayı1:5\n",
      "Sayı2:0\n",
      "ValueError ya da ZeroDivisionError Hatası!!!\n",
      "Lütfen doğru input giriniz..\n",
      "İşlemler Sonlandı..\n"
     ]
    }
   ],
   "source": [
    "try:\n",
    "    a=int(input(\"Sayı1:\"))\n",
    "    b=int(input(\"Sayı2:\"))\n",
    "    print(a/b)\n",
    "except (ValueError, ZeroDivisionError):\n",
    "    print(\"ValueError ya da ZeroDivisionError Hatası!!!\\nLütfen doğru input giriniz..\")\n",
    "print(\"İşlemler Sonlandı..\")"
   ]
  },
  {
   "cell_type": "markdown",
   "metadata": {},
   "source": [
    "try, except, finally blokları:\n",
    "try:\n",
    "    kodlar....\n",
    "    ....\n",
    "    ....\n",
    "except Hata1:\n",
    "    çalışacak kodlar\n",
    "except Hata2:\n",
    "    çalışacak kodlar\n",
    "finally:\n",
    "    Mutlaka çalışması beklenen kodlar\n",
    "    Her durumda çalışan bloktur"
   ]
  },
  {
   "cell_type": "code",
   "execution_count": 21,
   "metadata": {},
   "outputs": [
    {
     "name": "stdout",
     "output_type": "stream",
     "text": [
      "Sayı1:8\n",
      "Sayı2:2\n",
      "4.0\n",
      "Her durumda çalışır..\n",
      "İşlemler Sonlandı..\n"
     ]
    }
   ],
   "source": [
    "try:\n",
    "    a=int(input(\"Sayı1:\"))\n",
    "    b=int(input(\"Sayı2:\"))\n",
    "    print(a/b)\n",
    "except ValueError:\n",
    "    print(\"Lütfen doğru input giriniz..\")\n",
    "except ZeroDivisionError:\n",
    "    print(\"Sayı 0'a bölünemez!\")\n",
    "finally:\n",
    "    print(\"Her durumda çalışır..\")\n",
    "print(\"İşlemler Sonlandı..\")"
   ]
  },
  {
   "cell_type": "code",
   "execution_count": 22,
   "metadata": {},
   "outputs": [
    {
     "name": "stdout",
     "output_type": "stream",
     "text": [
      "Sayı1:30\n",
      "Sayı2:0\n",
      "Sayı 0'a bölünemez!\n",
      "Her durumda çalışır..\n",
      "İşlemler Sonlandı..\n"
     ]
    }
   ],
   "source": [
    "try:\n",
    "    a=int(input(\"Sayı1:\"))\n",
    "    b=int(input(\"Sayı2:\"))\n",
    "    print(a/b)\n",
    "except ValueError:\n",
    "    print(\"Lütfen doğru input giriniz..\")\n",
    "except ZeroDivisionError:\n",
    "    print(\"Sayı 0'a bölünemez!\")\n",
    "finally:\n",
    "    print(\"Her durumda çalışır..\")\n",
    "print(\"İşlemler Sonlandı..\")"
   ]
  },
  {
   "cell_type": "code",
   "execution_count": 28,
   "metadata": {},
   "outputs": [],
   "source": [
    "#Hata Fırlatma (raise hata-adı)\n",
    "def reverse(string):\n",
    "    if(type(string)!=str):\n",
    "        raise ValueError(\"String bir değer girin..\")\n",
    "    else:\n",
    "        print(string[::-1])"
   ]
  },
  {
   "cell_type": "code",
   "execution_count": 24,
   "metadata": {},
   "outputs": [
    {
     "name": "stdout",
     "output_type": "stream",
     "text": [
      "urbE\n"
     ]
    }
   ],
   "source": [
    "reverse(\"Ebru\")"
   ]
  },
  {
   "cell_type": "code",
   "execution_count": 25,
   "metadata": {},
   "outputs": [
    {
     "name": "stdout",
     "output_type": "stream",
     "text": [
      "a1\n"
     ]
    }
   ],
   "source": [
    "reverse(\"1a\")"
   ]
  },
  {
   "cell_type": "code",
   "execution_count": 29,
   "metadata": {},
   "outputs": [
    {
     "ename": "ValueError",
     "evalue": "String bir değer girin..",
     "output_type": "error",
     "traceback": [
      "\u001b[1;31m---------------------------------------------------------------------------\u001b[0m",
      "\u001b[1;31mValueError\u001b[0m                                Traceback (most recent call last)",
      "\u001b[1;32m<ipython-input-29-9be0aeb641b6>\u001b[0m in \u001b[0;36m<module>\u001b[1;34m\u001b[0m\n\u001b[1;32m----> 1\u001b[1;33m \u001b[0mreverse\u001b[0m\u001b[1;33m(\u001b[0m\u001b[1;36m12\u001b[0m\u001b[1;33m)\u001b[0m\u001b[1;33m\u001b[0m\u001b[1;33m\u001b[0m\u001b[0m\n\u001b[0m",
      "\u001b[1;32m<ipython-input-28-d865e3497e0c>\u001b[0m in \u001b[0;36mreverse\u001b[1;34m(string)\u001b[0m\n\u001b[0;32m      2\u001b[0m \u001b[1;32mdef\u001b[0m \u001b[0mreverse\u001b[0m\u001b[1;33m(\u001b[0m\u001b[0mstring\u001b[0m\u001b[1;33m)\u001b[0m\u001b[1;33m:\u001b[0m\u001b[1;33m\u001b[0m\u001b[1;33m\u001b[0m\u001b[0m\n\u001b[0;32m      3\u001b[0m     \u001b[1;32mif\u001b[0m\u001b[1;33m(\u001b[0m\u001b[0mtype\u001b[0m\u001b[1;33m(\u001b[0m\u001b[0mstring\u001b[0m\u001b[1;33m)\u001b[0m\u001b[1;33m!=\u001b[0m\u001b[0mstr\u001b[0m\u001b[1;33m)\u001b[0m\u001b[1;33m:\u001b[0m\u001b[1;33m\u001b[0m\u001b[1;33m\u001b[0m\u001b[0m\n\u001b[1;32m----> 4\u001b[1;33m         \u001b[1;32mraise\u001b[0m \u001b[0mValueError\u001b[0m\u001b[1;33m(\u001b[0m\u001b[1;34m\"String bir değer girin..\"\u001b[0m\u001b[1;33m)\u001b[0m\u001b[1;33m\u001b[0m\u001b[1;33m\u001b[0m\u001b[0m\n\u001b[0m\u001b[0;32m      5\u001b[0m     \u001b[1;32melse\u001b[0m\u001b[1;33m:\u001b[0m\u001b[1;33m\u001b[0m\u001b[1;33m\u001b[0m\u001b[0m\n\u001b[0;32m      6\u001b[0m         \u001b[0mprint\u001b[0m\u001b[1;33m(\u001b[0m\u001b[0mstring\u001b[0m\u001b[1;33m[\u001b[0m\u001b[1;33m:\u001b[0m\u001b[1;33m:\u001b[0m\u001b[1;33m-\u001b[0m\u001b[1;36m1\u001b[0m\u001b[1;33m]\u001b[0m\u001b[1;33m)\u001b[0m\u001b[1;33m\u001b[0m\u001b[1;33m\u001b[0m\u001b[0m\n",
      "\u001b[1;31mValueError\u001b[0m: String bir değer girin.."
     ]
    }
   ],
   "source": [
    "reverse(12)"
   ]
  },
  {
   "cell_type": "code",
   "execution_count": 30,
   "metadata": {},
   "outputs": [
    {
     "name": "stdout",
     "output_type": "stream",
     "text": [
      "Fonksiyon hata verdi!!!\n"
     ]
    }
   ],
   "source": [
    "try:\n",
    "    print(reverse(12))\n",
    "except ValueError:\n",
    "    print(\"Fonksiyon hata verdi!!!\")"
   ]
  },
  {
   "cell_type": "code",
   "execution_count": null,
   "metadata": {},
   "outputs": [],
   "source": []
  }
 ],
 "metadata": {
  "kernelspec": {
   "display_name": "Python 3",
   "language": "python",
   "name": "python3"
  },
  "language_info": {
   "codemirror_mode": {
    "name": "ipython",
    "version": 3
   },
   "file_extension": ".py",
   "mimetype": "text/x-python",
   "name": "python",
   "nbconvert_exporter": "python",
   "pygments_lexer": "ipython3",
   "version": "3.7.3"
  }
 },
 "nbformat": 4,
 "nbformat_minor": 2
}
