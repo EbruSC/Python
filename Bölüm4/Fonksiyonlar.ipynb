{
 "cells": [
  {
   "cell_type": "markdown",
   "metadata": {},
   "source": [
    "    METHODLAR"
   ]
  },
  {
   "cell_type": "markdown",
   "metadata": {},
   "source": [
    "count() fonksiyonu listedeki elemanın kaç sefer tekrar ettiğini gösterir.\n",
    "index() fonksiyonu istenilen bir elemanın konumunu dönderir.\n",
    "Eğer aradığımız eleman birden fazla varsa listede ilk bulduğunun indexini dönderir.\n",
    "append() fonksiyonu listenin sonuna eleman ekler."
   ]
  },
  {
   "cell_type": "code",
   "execution_count": 5,
   "metadata": {},
   "outputs": [
    {
     "data": {
      "text/plain": [
       "list"
      ]
     },
     "execution_count": 5,
     "metadata": {},
     "output_type": "execute_result"
    }
   ],
   "source": [
    "liste=[5,8,3,1,14]\n",
    "type(liste)\n"
   ]
  },
  {
   "cell_type": "code",
   "execution_count": 12,
   "metadata": {},
   "outputs": [
    {
     "name": "stdout",
     "output_type": "stream",
     "text": [
      "[5, 8, 3, 1, 14, 1, 'Ebru']\n"
     ]
    }
   ],
   "source": [
    "liste.append('Ebru')\n",
    "print(liste)"
   ]
  },
  {
   "cell_type": "markdown",
   "metadata": {},
   "source": [
    "insert() istenilen bir konuma eleman eklememizi sağlar.\n",
    "insert(indexNo,”Eklenecek eleman”) şeklinde kullanılır.\n",
    "Append() liste sonuna eleman ekliyordu.insert() fonksiyonunda indexi belirtmezsek hata verir.\n",
    "pop() fonksiyonu listenin son elemanını çıkartır.\n",
    "remove(çıkartılacak eleman ismi) herhangi bir elemanı listeden çıkartır.\n",
    "reverse() listeyi tersten sıralar.\n",
    "sort() listeyi sıralar.Once sayıları sonra stringleri sıralar."
   ]
  },
  {
   "cell_type": "code",
   "execution_count": 16,
   "metadata": {},
   "outputs": [
    {
     "name": "stdout",
     "output_type": "stream",
     "text": [
      "[2, 9, '9', 3, 1, 'kbu']\n"
     ]
    }
   ],
   "source": [
    "liste2=[2,9,3,1,\"kbu\"]\n",
    "liste2.insert(2,\"9\")\n",
    "print(liste2)"
   ]
  },
  {
   "cell_type": "code",
   "execution_count": 17,
   "metadata": {},
   "outputs": [
    {
     "name": "stdout",
     "output_type": "stream",
     "text": [
      "[2, 'Üniversite', 9, '9', 3, 1, 'kbu']\n"
     ]
    }
   ],
   "source": [
    "liste2.insert(1,\"Üniversite\")\n",
    "print(liste2)"
   ]
  },
  {
   "cell_type": "code",
   "execution_count": 18,
   "metadata": {},
   "outputs": [
    {
     "name": "stdout",
     "output_type": "stream",
     "text": [
      "[2, 'Üniversite', 9, '9', 3, 1]\n"
     ]
    }
   ],
   "source": [
    "liste2.pop()\n",
    "print(liste2)"
   ]
  },
  {
   "cell_type": "code",
   "execution_count": 27,
   "metadata": {},
   "outputs": [
    {
     "name": "stdout",
     "output_type": "stream",
     "text": [
      "['m', 'h', 'o', 7, 2, 3]\n"
     ]
    }
   ],
   "source": [
    "liste3=[\"m\",\"h\",\"o\",7,2,3]\n",
    "print(liste3)"
   ]
  },
  {
   "cell_type": "code",
   "execution_count": 28,
   "metadata": {},
   "outputs": [
    {
     "name": "stdout",
     "output_type": "stream",
     "text": [
      "['m', 'h', 'o', 7, 2]\n"
     ]
    }
   ],
   "source": [
    "liste3.remove(3)\n",
    "print(liste3)"
   ]
  },
  {
   "cell_type": "code",
   "execution_count": 30,
   "metadata": {},
   "outputs": [
    {
     "data": {
      "text/plain": [
       "1"
      ]
     },
     "execution_count": 30,
     "metadata": {},
     "output_type": "execute_result"
    }
   ],
   "source": [
    "liste3.count(\"m\")"
   ]
  },
  {
   "cell_type": "code",
   "execution_count": 33,
   "metadata": {},
   "outputs": [
    {
     "data": {
      "text/plain": [
       "2"
      ]
     },
     "execution_count": 33,
     "metadata": {},
     "output_type": "execute_result"
    }
   ],
   "source": [
    "liste3.index(\"o\")"
   ]
  },
  {
   "cell_type": "markdown",
   "metadata": {},
   "source": [
    "    FONKSİYONLAR"
   ]
  },
  {
   "cell_type": "code",
   "execution_count": 41,
   "metadata": {},
   "outputs": [
    {
     "data": {
      "text/plain": [
       "function"
      ]
     },
     "execution_count": 41,
     "metadata": {},
     "output_type": "execute_result"
    }
   ],
   "source": [
    "def Merhaba():\n",
    "    print(\"Merhaba...\")\n",
    "type(Merhaba)"
   ]
  },
  {
   "cell_type": "code",
   "execution_count": 42,
   "metadata": {},
   "outputs": [
    {
     "name": "stdout",
     "output_type": "stream",
     "text": [
      "Merhaba...\n"
     ]
    }
   ],
   "source": [
    "Merhaba()"
   ]
  },
  {
   "cell_type": "code",
   "execution_count": 44,
   "metadata": {},
   "outputs": [
    {
     "name": "stdout",
     "output_type": "stream",
     "text": [
      "Toplam: 15\n"
     ]
    }
   ],
   "source": [
    "def topla(a,b,c):\n",
    "    print(\"Toplam:\",a+b+c)\n",
    "topla(3,4,8)"
   ]
  },
  {
   "cell_type": "code",
   "execution_count": 49,
   "metadata": {},
   "outputs": [
    {
     "name": "stdout",
     "output_type": "stream",
     "text": [
      "Result: 720\n"
     ]
    }
   ],
   "source": [
    "def faktoriyel(sayı):\n",
    "    fakt=1\n",
    "    if(sayı==0 or sayı==1):\n",
    "        print(\"Faktoriyel:\",fakt)\n",
    "    for i in range(1,sayı+1):\n",
    "        \n",
    "        fakt*=i\n",
    "    print(\"Result:\",fakt)\n",
    "faktoriyel(6)"
   ]
  },
  {
   "cell_type": "code",
   "execution_count": 54,
   "metadata": {},
   "outputs": [
    {
     "name": "stdout",
     "output_type": "stream",
     "text": [
      "Result: 24\n"
     ]
    }
   ],
   "source": [
    "def faktoriyel(sayı):\n",
    "    fakt=1\n",
    "    if(sayı==0 or sayı==1):\n",
    "        print(\"Faktoriyel:\",fakt)\n",
    "    else:\n",
    "        while(sayı>1):\n",
    "            fakt*=sayı\n",
    "            sayı-=1\n",
    "        print(\"Result:\",fakt)\n",
    "faktoriyel(4)"
   ]
  },
  {
   "cell_type": "markdown",
   "metadata": {},
   "source": [
    "    RETURN"
   ]
  },
  {
   "cell_type": "code",
   "execution_count": 56,
   "metadata": {},
   "outputs": [
    {
     "name": "stdout",
     "output_type": "stream",
     "text": [
      "45\n"
     ]
    }
   ],
   "source": [
    "def topla(a,b):\n",
    "    return (a+b)\n",
    "def carp(sayı):\n",
    "    return (sayı*5)\n",
    "deger=topla(4,5)\n",
    "print(carp(deger))\n",
    "        "
   ]
  },
  {
   "cell_type": "markdown",
   "metadata": {},
   "source": [
    "Herhangi bir değer döndürmeyen(return kullanılmayan) fonksiyonlara void fonksiyonlar denilmektedir."
   ]
  },
  {
   "cell_type": "markdown",
   "metadata": {},
   "source": [
    "    PARAMETRE TÜRLERİ"
   ]
  },
  {
   "cell_type": "code",
   "execution_count": 58,
   "metadata": {},
   "outputs": [
    {
     "name": "stdout",
     "output_type": "stream",
     "text": [
      "Ad: Ebru Soyad: Somuncu Numara: 215496\n"
     ]
    }
   ],
   "source": [
    "def ogr_bilgileri(ad=\"Bilgi Yok\",soyad=\"Bilgi Yok\",numara=\"Bilgi Yok\"):\n",
    "    print(\"Ad:\",ad,\"Soyad:\",soyad,\"Numara:\",numara)\n",
    "ogr_bilgileri(\"Ebru\",\"Somuncu\",\"215496\")"
   ]
  },
  {
   "cell_type": "code",
   "execution_count": 60,
   "metadata": {},
   "outputs": [
    {
     "name": "stdout",
     "output_type": "stream",
     "text": [
      "Ad: Ebru Soyad: Somuncu Numara: Bilgi Yok\n"
     ]
    }
   ],
   "source": [
    "def ogr_bilgileri(ad=\"Bilgi Yok\",soyad=\"Bilgi Yok\",numara=\"Bilgi Yok\"):\n",
    "    print(\"Ad:\",ad,\"Soyad:\",soyad,\"Numara:\",numara)\n",
    "ogr_bilgileri(\"Ebru\",\"Somuncu\") #değer atanmadığında default olarak \"Bilgi Yok\" gelir"
   ]
  },
  {
   "cell_type": "code",
   "execution_count": 61,
   "metadata": {},
   "outputs": [
    {
     "name": "stdout",
     "output_type": "stream",
     "text": [
      "Ad:  Soyad:  Numara: 215496\n"
     ]
    }
   ],
   "source": [
    "def ogr_bilgileri(ad=\"Bilgi Yok\",soyad=\"Bilgi Yok\",numara=\"Bilgi Yok\"):\n",
    "    print(\"Ad:\",ad,\"Soyad:\",soyad,\"Numara:\",numara)\n",
    "ogr_bilgileri(\"\",\"\",\"215496\")"
   ]
  },
  {
   "cell_type": "code",
   "execution_count": 62,
   "metadata": {},
   "outputs": [
    {
     "name": "stdout",
     "output_type": "stream",
     "text": [
      "Ad: Bilgi Yok Soyad: Bilgi Yok Numara: 215496\n"
     ]
    }
   ],
   "source": [
    "def ogr_bilgileri(ad=\"Bilgi Yok\",soyad=\"Bilgi Yok\",numara=\"Bilgi Yok\"):\n",
    "    print(\"Ad:\",ad,\"Soyad:\",soyad,\"Numara:\",numara)\n",
    "ogr_bilgileri(numara=\"215496\")"
   ]
  },
  {
   "cell_type": "code",
   "execution_count": 63,
   "metadata": {},
   "outputs": [],
   "source": [
    "def sayılar(*sayı): \n",
    "    #tuple olarak tanımlandığından sayı adedi esnektir\n",
    "    print(sayı)\n",
    "    "
   ]
  },
  {
   "cell_type": "code",
   "execution_count": 64,
   "metadata": {},
   "outputs": [
    {
     "name": "stdout",
     "output_type": "stream",
     "text": [
      "(8, 9, 3, 1)\n"
     ]
    }
   ],
   "source": [
    "sayılar(8,9,3,1)"
   ]
  },
  {
   "cell_type": "code",
   "execution_count": 65,
   "metadata": {},
   "outputs": [
    {
     "name": "stdout",
     "output_type": "stream",
     "text": [
      "('Ebru', 5, 9, 33)\n"
     ]
    }
   ],
   "source": [
    "sayılar(\"Ebru\",5,9,33)"
   ]
  },
  {
   "cell_type": "code",
   "execution_count": 66,
   "metadata": {},
   "outputs": [],
   "source": [
    "def topla(*sayı):\n",
    "    topla=0\n",
    "    for i in sayı:\n",
    "        topla+=i\n",
    "    print(\"Toplam:\",topla)"
   ]
  },
  {
   "cell_type": "code",
   "execution_count": 67,
   "metadata": {},
   "outputs": [
    {
     "name": "stdout",
     "output_type": "stream",
     "text": [
      "Toplam: 14\n"
     ]
    }
   ],
   "source": [
    "topla(2,4,7,1)"
   ]
  },
  {
   "cell_type": "markdown",
   "metadata": {},
   "source": [
    "    GLOBAL VE YEREL DEĞİŞKENLER"
   ]
  },
  {
   "cell_type": "code",
   "execution_count": 70,
   "metadata": {},
   "outputs": [
    {
     "name": "stdout",
     "output_type": "stream",
     "text": [
      "10\n"
     ]
    },
    {
     "ename": "NameError",
     "evalue": "name 'a' is not defined",
     "output_type": "error",
     "traceback": [
      "\u001b[1;31m---------------------------------------------------------------------------\u001b[0m",
      "\u001b[1;31mNameError\u001b[0m                                 Traceback (most recent call last)",
      "\u001b[1;32m<ipython-input-70-def89978effa>\u001b[0m in \u001b[0;36m<module>\u001b[1;34m\u001b[0m\n\u001b[0;32m      3\u001b[0m     \u001b[0mprint\u001b[0m\u001b[1;33m(\u001b[0m\u001b[0ma\u001b[0m\u001b[1;33m)\u001b[0m\u001b[1;33m\u001b[0m\u001b[1;33m\u001b[0m\u001b[0m\n\u001b[0;32m      4\u001b[0m \u001b[0mislem\u001b[0m\u001b[1;33m(\u001b[0m\u001b[1;33m)\u001b[0m\u001b[1;33m\u001b[0m\u001b[1;33m\u001b[0m\u001b[0m\n\u001b[1;32m----> 5\u001b[1;33m \u001b[0mprint\u001b[0m\u001b[1;33m(\u001b[0m\u001b[0ma\u001b[0m\u001b[1;33m)\u001b[0m\u001b[1;33m\u001b[0m\u001b[1;33m\u001b[0m\u001b[0m\n\u001b[0m",
      "\u001b[1;31mNameError\u001b[0m: name 'a' is not defined"
     ]
    }
   ],
   "source": [
    "def islem():\n",
    "    a=10\n",
    "    print(a)\n",
    "islem()\n",
    "print(a) #değişken global olmadığından hata verir"
   ]
  },
  {
   "cell_type": "code",
   "execution_count": 71,
   "metadata": {},
   "outputs": [
    {
     "name": "stdout",
     "output_type": "stream",
     "text": [
      "10\n",
      "10\n"
     ]
    }
   ],
   "source": [
    "a=10 #global değişken\n",
    "def islem():\n",
    "    print(a)\n",
    "islem()\n",
    "print(a)"
   ]
  },
  {
   "cell_type": "code",
   "execution_count": 72,
   "metadata": {},
   "outputs": [
    {
     "name": "stdout",
     "output_type": "stream",
     "text": [
      "1\n",
      "1\n"
     ]
    }
   ],
   "source": [
    "a=5\n",
    "def fonk():\n",
    "    global a\n",
    "    a=1\n",
    "    print(a)\n",
    "fonk()\n",
    "print(a)"
   ]
  },
  {
   "cell_type": "code",
   "execution_count": 73,
   "metadata": {},
   "outputs": [
    {
     "name": "stdout",
     "output_type": "stream",
     "text": [
      "4\n",
      "4\n"
     ]
    }
   ],
   "source": [
    "if True:\n",
    "    a=4\n",
    "    print(a)\n",
    "print(a)"
   ]
  },
  {
   "cell_type": "markdown",
   "metadata": {},
   "source": [
    "     LAMBDA İFADELERİ"
   ]
  },
  {
   "cell_type": "code",
   "execution_count": 75,
   "metadata": {},
   "outputs": [
    {
     "name": "stdout",
     "output_type": "stream",
     "text": [
      "[10, 16, 12]\n"
     ]
    }
   ],
   "source": [
    "#klasik liste olurşturma\n",
    "liste1=[5,8,6]\n",
    "liste2=list()\n",
    "for i in liste1:\n",
    "    liste2.append(i*2)\n",
    "print(liste2)"
   ]
  },
  {
   "cell_type": "code",
   "execution_count": 76,
   "metadata": {},
   "outputs": [
    {
     "name": "stdout",
     "output_type": "stream",
     "text": [
      "[10, 16, 12]\n"
     ]
    }
   ],
   "source": [
    "#list comprehension ile liste tanımlama\n",
    "liste1=[5,8,6]\n",
    "liste3=[i*2 for i in liste1]\n",
    "print(liste3)"
   ]
  },
  {
   "cell_type": "code",
   "execution_count": 77,
   "metadata": {},
   "outputs": [
    {
     "name": "stdout",
     "output_type": "stream",
     "text": [
      "10\n"
     ]
    }
   ],
   "source": [
    "#lambda ifadesi\n",
    "#etiket= lambda parametre1, parametre2...:islem\n",
    "carp=lambda x:x*2\n",
    "print(carp(5))"
   ]
  },
  {
   "cell_type": "code",
   "execution_count": 78,
   "metadata": {},
   "outputs": [
    {
     "name": "stdout",
     "output_type": "stream",
     "text": [
      "13\n"
     ]
    }
   ],
   "source": [
    "def toplam(x,y,z):\n",
    "    return x+y+z\n",
    "print(toplam(5,7,1))"
   ]
  },
  {
   "cell_type": "code",
   "execution_count": 79,
   "metadata": {},
   "outputs": [
    {
     "name": "stdout",
     "output_type": "stream",
     "text": [
      "13\n"
     ]
    }
   ],
   "source": [
    "toplam=lambda x,y,z:x+y+z\n",
    "print(toplam(5,7,1))"
   ]
  },
  {
   "cell_type": "code",
   "execution_count": 80,
   "metadata": {},
   "outputs": [
    {
     "name": "stdout",
     "output_type": "stream",
     "text": [
      "urbE\n"
     ]
    }
   ],
   "source": [
    "def reverse(s):\n",
    "    return s[::-1]\n",
    "print(reverse(\"Ebru\"))"
   ]
  },
  {
   "cell_type": "code",
   "execution_count": 81,
   "metadata": {},
   "outputs": [
    {
     "name": "stdout",
     "output_type": "stream",
     "text": [
      "urbE\n"
     ]
    }
   ],
   "source": [
    "reverse=lambda s:s[::-1]\n",
    "print(reverse(\"Ebru\"))"
   ]
  },
  {
   "cell_type": "code",
   "execution_count": 84,
   "metadata": {},
   "outputs": [
    {
     "name": "stdout",
     "output_type": "stream",
     "text": [
      "Tek\n"
     ]
    }
   ],
   "source": [
    "def kontrol(sayı):\n",
    "    if(sayı%2==0):\n",
    "        return \"Çift\"\n",
    "    else:\n",
    "        return \"Tek\"\n",
    "print(kontrol(7))"
   ]
  },
  {
   "cell_type": "code",
   "execution_count": 87,
   "metadata": {},
   "outputs": [
    {
     "name": "stdout",
     "output_type": "stream",
     "text": [
      "True\n"
     ]
    }
   ],
   "source": [
    "kontrol=lambda sayı:sayı%2==0\n",
    "print(kontrol(18)) "
   ]
  }
 ],
 "metadata": {
  "kernelspec": {
   "display_name": "Python 3",
   "language": "python",
   "name": "python3"
  },
  "language_info": {
   "codemirror_mode": {
    "name": "ipython",
    "version": 3
   },
   "file_extension": ".py",
   "mimetype": "text/x-python",
   "name": "python",
   "nbconvert_exporter": "python",
   "pygments_lexer": "ipython3",
   "version": "3.7.3"
  }
 },
 "nbformat": 4,
 "nbformat_minor": 2
}
