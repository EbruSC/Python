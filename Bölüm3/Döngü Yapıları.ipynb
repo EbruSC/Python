{
 "cells": [
  {
   "cell_type": "markdown",
   "metadata": {},
   "source": [
    "    FOR DÖNGÜLERİ"
   ]
  },
  {
   "cell_type": "code",
   "execution_count": 2,
   "metadata": {},
   "outputs": [
    {
     "data": {
      "text/plain": [
       "False"
      ]
     },
     "execution_count": 2,
     "metadata": {},
     "output_type": "execute_result"
    }
   ],
   "source": [
    "#in operatörü: değerin olup olmadığını kontrol etmemizi sağlar\n",
    "\"t\" in \"Ebru\""
   ]
  },
  {
   "cell_type": "code",
   "execution_count": 3,
   "metadata": {},
   "outputs": [
    {
     "data": {
      "text/plain": [
       "False"
      ]
     },
     "execution_count": 3,
     "metadata": {},
     "output_type": "execute_result"
    }
   ],
   "source": [
    "\"e\" in \"Ebru\""
   ]
  },
  {
   "cell_type": "code",
   "execution_count": 4,
   "metadata": {},
   "outputs": [
    {
     "data": {
      "text/plain": [
       "True"
      ]
     },
     "execution_count": 4,
     "metadata": {},
     "output_type": "execute_result"
    }
   ],
   "source": [
    "\"e\" in \"ebru\""
   ]
  },
  {
   "cell_type": "code",
   "execution_count": 5,
   "metadata": {},
   "outputs": [
    {
     "data": {
      "text/plain": [
       "True"
      ]
     },
     "execution_count": 5,
     "metadata": {},
     "output_type": "execute_result"
    }
   ],
   "source": [
    "1 in [2,1,4,85]"
   ]
  },
  {
   "cell_type": "code",
   "execution_count": 10,
   "metadata": {},
   "outputs": [
    {
     "name": "stdout",
     "output_type": "stream",
     "text": [
      "1\n",
      "2\n",
      "3\n",
      "7\n",
      "6\n"
     ]
    }
   ],
   "source": [
    "#for döngüsü\n",
    "liste=[1,2,3,7,6]\n",
    "for sayac in liste:\n",
    "    print(sayac)"
   ]
  },
  {
   "cell_type": "code",
   "execution_count": 15,
   "metadata": {},
   "outputs": [
    {
     "name": "stdout",
     "output_type": "stream",
     "text": [
      "7 sayısı listede mevcut\n"
     ]
    }
   ],
   "source": [
    "liste=[1,2,3,7,6]\n",
    "for sayac in liste:\n",
    "    if(sayac==7):\n",
    "        print(\"7 sayısı listede mevcut\")"
   ]
  },
  {
   "cell_type": "code",
   "execution_count": 18,
   "metadata": {},
   "outputs": [
    {
     "name": "stdout",
     "output_type": "stream",
     "text": [
      "9 sayısı listede mevcut değil!\n"
     ]
    }
   ],
   "source": [
    "liste=[1,2,3,7,6]\n",
    "for sayac in liste:\n",
    "    if(sayac==9):\n",
    "        print(\"9 sayısı listede mevcut\")\n",
    "    else:\n",
    "        print(\"9 sayısı listede mevcut değil!\")\n",
    "        break #break komutu şart işlendiğinde işlemi sonlandırır"
   ]
  },
  {
   "cell_type": "code",
   "execution_count": 19,
   "metadata": {},
   "outputs": [
    {
     "name": "stdout",
     "output_type": "stream",
     "text": [
      "Toplam:226\n"
     ]
    }
   ],
   "source": [
    "#liste elemanlarını toplama\n",
    "liste1=[17,23,73,97,16]\n",
    "toplam=0\n",
    "for sayac in liste1:\n",
    "    toplam+=sayac\n",
    "print(\"Toplam:{}\".format(toplam))\n",
    "    "
   ]
  },
  {
   "cell_type": "code",
   "execution_count": 21,
   "metadata": {},
   "outputs": [
    {
     "name": "stdout",
     "output_type": "stream",
     "text": [
      "Toplam:12\n"
     ]
    }
   ],
   "source": [
    "#listedeki tek sayıları toplama\n",
    "liste1=[12,2,3,9,16]\n",
    "toplam=0\n",
    "for sayac in liste1:\n",
    "    if(sayac%2==1):\n",
    "         toplam+=sayac\n",
    "print(\"Toplam:{}\".format(toplam))"
   ]
  },
  {
   "cell_type": "code",
   "execution_count": 22,
   "metadata": {},
   "outputs": [
    {
     "name": "stdout",
     "output_type": "stream",
     "text": [
      "Toplam:30\n"
     ]
    }
   ],
   "source": [
    "#listedeki çift sayıları toplama\n",
    "liste1=[12,2,3,9,16]\n",
    "toplam=0\n",
    "for sayac in liste1:\n",
    "    if(sayac%2==0):\n",
    "         toplam+=sayac\n",
    "print(\"Toplam:{}\".format(toplam))"
   ]
  },
  {
   "cell_type": "code",
   "execution_count": 24,
   "metadata": {},
   "outputs": [
    {
     "name": "stdout",
     "output_type": "stream",
     "text": [
      "z karakteri listede mevcut değil!\n"
     ]
    }
   ],
   "source": [
    "#listeden karakter tarama\n",
    "liste2=[\"a\",\"f\",\"d\",\"o\",\"ü\",\"k\",\"j\"]\n",
    "for sayac in liste2:\n",
    "    if(sayac==\"z\"):\n",
    "        print(\"z karakteri listede mevcut\")\n",
    "    else:\n",
    "        print(\"z karakteri listede mevcut değil!\")\n",
    "        break\n"
   ]
  },
  {
   "cell_type": "code",
   "execution_count": 25,
   "metadata": {},
   "outputs": [
    {
     "name": "stdout",
     "output_type": "stream",
     "text": [
      "2\n",
      "5\n",
      "8\n",
      "(4, 5)\n"
     ]
    }
   ],
   "source": [
    "#demetler üzerinde işlemler\n",
    "demet=(2,5,8,(4,5))\n",
    "for i in demet:\n",
    "    print(i)"
   ]
  },
  {
   "cell_type": "code",
   "execution_count": 28,
   "metadata": {},
   "outputs": [
    {
     "name": "stdout",
     "output_type": "stream",
     "text": [
      "2 4\n",
      "5 8\n",
      "4 5\n"
     ]
    }
   ],
   "source": [
    "demet=((2,4),(5,8),(4,5))\n",
    "for (i,j) in demet:\n",
    "    print(i,j)"
   ]
  },
  {
   "cell_type": "code",
   "execution_count": 29,
   "metadata": {},
   "outputs": [
    {
     "name": "stdout",
     "output_type": "stream",
     "text": [
      "8\n",
      "40\n",
      "20\n"
     ]
    }
   ],
   "source": [
    "#demetlerdeki değerlerin çarpımı\n",
    "demet=((2,4),(5,8),(4,5))\n",
    "for (i,j) in demet:\n",
    "    print(i*j)"
   ]
  },
  {
   "cell_type": "code",
   "execution_count": 31,
   "metadata": {},
   "outputs": [
    {
     "name": "stdout",
     "output_type": "stream",
     "text": [
      "bir\n",
      "iki\n",
      "üç\n",
      "dört\n"
     ]
    }
   ],
   "source": [
    "#sözlük yapılarında for döngüleri\n",
    "sözlük={\"bir\":1,\"iki\":2,\"üç\":3,\"dört\":4}\n",
    "for i in sözlük:\n",
    "    print(i) # burada anahtarlarını ekrana basar"
   ]
  },
  {
   "cell_type": "code",
   "execution_count": 33,
   "metadata": {},
   "outputs": [
    {
     "name": "stdout",
     "output_type": "stream",
     "text": [
      "1\n",
      "2\n",
      "3\n",
      "4\n"
     ]
    }
   ],
   "source": [
    "#sözlük yapılarında for döngüleri\n",
    "sözlük={\"bir\":1,\"iki\":2,\"üç\":3,\"dört\":4}\n",
    "for i in sözlük.values():\n",
    "    print(i) # burada sözlük.values() ile değerleri ekrana basar"
   ]
  },
  {
   "cell_type": "code",
   "execution_count": 35,
   "metadata": {},
   "outputs": [
    {
     "name": "stdout",
     "output_type": "stream",
     "text": [
      "('bir', 1)\n",
      "('iki', 2)\n",
      "('üç', 3)\n",
      "('dört', 4)\n"
     ]
    }
   ],
   "source": [
    "#sözlük yapılarında for döngüleri\n",
    "sözlük={\"bir\":1,\"iki\":2,\"üç\":3,\"dört\":4}\n",
    "for i in sözlük.items():\n",
    "    print(i) # belirlenen sözlüğü demet(anahtar,değer) şeklinde gösterir"
   ]
  },
  {
   "cell_type": "markdown",
   "metadata": {},
   "source": [
    "    WHİLE DÖNGÜLERİ\n",
    "    \n",
    "   while(koşul):\n",
    "   işlem1\n",
    "   işlem2\n",
    "   ....\n",
    "   "
   ]
  },
  {
   "cell_type": "code",
   "execution_count": 1,
   "metadata": {},
   "outputs": [
    {
     "name": "stdout",
     "output_type": "stream",
     "text": [
      "Sayı giriniz:52\n",
      "Girilen sayı: 52\n",
      "Girilen sayı: 62\n",
      "Girilen sayı: 72\n",
      "Girilen sayı: 82\n",
      "Girilen sayı: 92\n"
     ]
    }
   ],
   "source": [
    "sayı=int(input(\"Sayı giriniz:\"))\n",
    "while(sayı<100):\n",
    "    print(\"Girilen sayı:\",sayı)\n",
    "    sayı+=10"
   ]
  },
  {
   "cell_type": "code",
   "execution_count": 7,
   "metadata": {},
   "outputs": [
    {
     "name": "stdout",
     "output_type": "stream",
     "text": [
      "indeks: 0 değer: e\n",
      "indeks: 1 değer: b\n",
      "indeks: 2 değer: r\n",
      "indeks: 3 değer: u\n"
     ]
    }
   ],
   "source": [
    "liste1=[\"e\",\"b\",\"r\",\"u\"]\n",
    "i=0\n",
    "while(i<len(liste1)):\n",
    "    print(\"indeks:\",i,\"değer:\",liste1[i])\n",
    "    i+=1"
   ]
  },
  {
   "cell_type": "code",
   "execution_count": null,
   "metadata": {},
   "outputs": [],
   "source": [
    "#sonsuz döngü yapıları\n",
    "i=0\n",
    "while(i<10):\n",
    "    print(i) # 0 100 den küçük şartını sağladığından sürekli 0 basar"
   ]
  },
  {
   "cell_type": "markdown",
   "metadata": {},
   "source": [
    "    RANGE FONKSİYONU (başlangıç-bitiş-artış)"
   ]
  },
  {
   "cell_type": "code",
   "execution_count": 9,
   "metadata": {},
   "outputs": [
    {
     "name": "stdout",
     "output_type": "stream",
     "text": [
      "0 1 2 3 4 5 6 7 8 9 10 11 12 13 14 15 16 17 18 19\n"
     ]
    }
   ],
   "source": [
    "print(*range(0,20))\n",
    "#0 dan 20 ye kadar(dahil değil) sayı dizisi oluşturmamızı sağlar"
   ]
  },
  {
   "cell_type": "code",
   "execution_count": 13,
   "metadata": {},
   "outputs": [
    {
     "name": "stdout",
     "output_type": "stream",
     "text": [
      "0\n",
      "2\n",
      "4\n",
      "6\n",
      "8\n",
      "10\n",
      "12\n",
      "14\n",
      "16\n",
      "18\n",
      "20\n"
     ]
    }
   ],
   "source": [
    "for i in range(0,21,2):\n",
    "    print(i)"
   ]
  },
  {
   "cell_type": "code",
   "execution_count": 15,
   "metadata": {},
   "outputs": [
    {
     "name": "stdout",
     "output_type": "stream",
     "text": [
      "\n",
      "+\n",
      "++\n",
      "+++\n",
      "++++\n",
      "+++++\n",
      "++++++\n",
      "+++++++\n",
      "++++++++\n",
      "+++++++++\n",
      "++++++++++\n",
      "+++++++++++\n",
      "++++++++++++\n",
      "+++++++++++++\n",
      "++++++++++++++\n"
     ]
    }
   ],
   "source": [
    "for i in range(15):\n",
    "    print(\"+\"*i) #string ifadelerin çarpımı"
   ]
  },
  {
   "cell_type": "markdown",
   "metadata": {},
   "source": [
    "    BREAK VE CONTİNUE"
   ]
  },
  {
   "cell_type": "code",
   "execution_count": 4,
   "metadata": {},
   "outputs": [
    {
     "name": "stdout",
     "output_type": "stream",
     "text": [
      "5\n",
      "6\n",
      "7\n",
      "7 sayısı bulundu\n"
     ]
    }
   ],
   "source": [
    "#break: Döngü koşula gerek olmadan sonlandırılır.\n",
    "i=5\n",
    "while(i<10):\n",
    "    print(i)\n",
    "    if(i==7):\n",
    "        print(i,\"sayısı bulundu\")\n",
    "        break\n",
    "    i+=1"
   ]
  },
  {
   "cell_type": "code",
   "execution_count": 8,
   "metadata": {},
   "outputs": [
    {
     "name": "stdout",
     "output_type": "stream",
     "text": [
      "i:17\n"
     ]
    }
   ],
   "source": [
    "liste2=[4,8,6,17,2]\n",
    "for i in liste2:\n",
    "    if(i%2==1):\n",
    "        print(\"i:{}\".format(i))\n",
    "        break\n",
    "        \n",
    "        "
   ]
  },
  {
   "cell_type": "code",
   "execution_count": 9,
   "metadata": {},
   "outputs": [
    {
     "name": "stdout",
     "output_type": "stream",
     "text": [
      "Programı sonlandırmak için 'q' ya basın!i\n",
      "Programı sonlandırmak için 'q' ya basın!k\n",
      "Programı sonlandırmak için 'q' ya basın!n\n",
      "Programı sonlandırmak için 'q' ya basın!u\n",
      "Programı sonlandırmak için 'q' ya basın!d\n",
      "Programı sonlandırmak için 'q' ya basın!q\n",
      "Programdan Çıkılıyor..\n"
     ]
    }
   ],
   "source": [
    "while True: #sonsuz döngü\n",
    "    isim=input(\"Programı sonlandırmak için 'q' ya basın!\")\n",
    "    if(isim==\"q\"):\n",
    "        print(\"Programdan Çıkılıyor..\")\n",
    "        break"
   ]
  },
  {
   "cell_type": "code",
   "execution_count": 10,
   "metadata": {},
   "outputs": [
    {
     "name": "stdout",
     "output_type": "stream",
     "text": [
      "Programı sonlandırmak için 'q' ya basın!i\n",
      "******\n",
      "Programı sonlandırmak için 'q' ya basın!ğ\n",
      "******\n",
      "Programı sonlandırmak için 'q' ya basın!d\n",
      "******\n",
      "Programı sonlandırmak için 'q' ya basın!q\n",
      "Programdan Çıkılıyor..\n"
     ]
    }
   ],
   "source": [
    "while True: #sonsuz döngü\n",
    "    isim=input(\"Programı sonlandırmak için 'q' ya basın!\")\n",
    "    if(isim==\"q\"):\n",
    "        print(\"Programdan Çıkılıyor..\")\n",
    "        break\n",
    "    print(\"******\")"
   ]
  },
  {
   "cell_type": "code",
   "execution_count": 13,
   "metadata": {},
   "outputs": [
    {
     "name": "stdout",
     "output_type": "stream",
     "text": [
      "0\n",
      "2\n",
      "4\n",
      "6\n",
      "8\n",
      "10\n"
     ]
    }
   ],
   "source": [
    "#continue:\n",
    "liste=list(range(11)) #0-11 arası\n",
    "for i in liste:\n",
    "    if(i%2==1): #tek sayıları atlayarak devam et\n",
    "        continue #alttaki işlemleri yapmadan başa dönüyor\n",
    "    print(i)"
   ]
  },
  {
   "cell_type": "markdown",
   "metadata": {},
   "source": [
    "    LİST COMPREHENSİON"
   ]
  },
  {
   "cell_type": "code",
   "execution_count": 19,
   "metadata": {},
   "outputs": [
    {
     "name": "stdout",
     "output_type": "stream",
     "text": [
      "liste2: [1, 2, 3]\n"
     ]
    }
   ],
   "source": [
    "#list comprehension: liste üretmek ve oluşturmak için kullanılan pratik bir yöntemdir\n",
    "#append metodu: listeye eleman ekler\n",
    "liste1=[1,2,3]\n",
    "liste2=[]\n",
    "for i in liste1:\n",
    "    liste2.append(i)\n",
    "print(\"liste2:\",liste2)"
   ]
  },
  {
   "cell_type": "code",
   "execution_count": 20,
   "metadata": {},
   "outputs": [
    {
     "name": "stdout",
     "output_type": "stream",
     "text": [
      "[5, 8, 7, 4, 9, 6]\n"
     ]
    }
   ],
   "source": [
    "liste3=[5,8,7,4,9,6]\n",
    "liste4=[i for i in liste3] #list comprehension kullanımı\n",
    "print(liste4)"
   ]
  },
  {
   "cell_type": "code",
   "execution_count": 22,
   "metadata": {},
   "outputs": [
    {
     "name": "stdout",
     "output_type": "stream",
     "text": [
      "liste4: [25, 40, 35, 20, 45, 30]\n"
     ]
    }
   ],
   "source": [
    "liste3=[5,8,7,4,9,6]\n",
    "liste4=[i*5 for i in liste3] #elemanların 5 ile çarpılarak eklenmesi\n",
    "print(\"liste4:\",liste4)"
   ]
  },
  {
   "cell_type": "code",
   "execution_count": 23,
   "metadata": {},
   "outputs": [
    {
     "name": "stdout",
     "output_type": "stream",
     "text": [
      "liste6: [24, 12, 10, 56]\n"
     ]
    }
   ],
   "source": [
    "liste5=[(6,4),(3,4),(2,5),(8,7)]\n",
    "liste6=[i*j for i,j in liste5] #demetler üzerinde işlem yapma\n",
    "print(\"liste6:\",liste6)"
   ]
  },
  {
   "cell_type": "code",
   "execution_count": 25,
   "metadata": {},
   "outputs": [
    {
     "name": "stdout",
     "output_type": "stream",
     "text": [
      "['EE', 'bb', 'rr', 'uu']\n"
     ]
    }
   ],
   "source": [
    "string=\"Ebru\"\n",
    "kelime=[i*2 for i in string] #stringdeki her karakteri 2 defa yazdırır\n",
    "print(kelime)"
   ]
  },
  {
   "cell_type": "code",
   "execution_count": 30,
   "metadata": {},
   "outputs": [
    {
     "name": "stdout",
     "output_type": "stream",
     "text": [
      "5\n",
      "8\n",
      "2\n",
      "1\n",
      "7\n",
      "9\n",
      "4\n",
      "8\n",
      "33\n"
     ]
    }
   ],
   "source": [
    "#iç içe liste işlemleri\n",
    "liste=[[5,8,2,1,7,9],[4,8,33]]\n",
    "liste1=list()\n",
    "for i in liste:\n",
    "    for j in i:\n",
    "        print(j)"
   ]
  },
  {
   "cell_type": "code",
   "execution_count": 35,
   "metadata": {},
   "outputs": [
    {
     "name": "stdout",
     "output_type": "stream",
     "text": [
      "[5, 8, 2, 1, 7, 9, 4, 8, 33]\n"
     ]
    }
   ],
   "source": [
    "#iç içe for döngüsü\n",
    "liste=[[5,8,2,1,7,9],[4,8,33]]\n",
    "liste1=list()   \n",
    "for i in liste:\n",
    "    for j in i:\n",
    "        liste1.append(j)\n",
    "print(liste1)"
   ]
  },
  {
   "cell_type": "code",
   "execution_count": 37,
   "metadata": {},
   "outputs": [
    {
     "name": "stdout",
     "output_type": "stream",
     "text": [
      "[5, 8, 2, 1, 7, 9, 4, 8, 33]\n"
     ]
    }
   ],
   "source": [
    "#list comprehension  kullanımı\n",
    "liste=[[5,8,2,1,7,9],[4,8,33]] \n",
    "liste1=[x for i in liste for x in i]\n",
    "print(liste1)"
   ]
  },
  {
   "cell_type": "code",
   "execution_count": null,
   "metadata": {},
   "outputs": [],
   "source": []
  }
 ],
 "metadata": {
  "kernelspec": {
   "display_name": "Python 3",
   "language": "python",
   "name": "python3"
  },
  "language_info": {
   "codemirror_mode": {
    "name": "ipython",
    "version": 3
   },
   "file_extension": ".py",
   "mimetype": "text/x-python",
   "name": "python",
   "nbconvert_exporter": "python",
   "pygments_lexer": "ipython3",
   "version": "3.7.3"
  }
 },
 "nbformat": 4,
 "nbformat_minor": 2
}
