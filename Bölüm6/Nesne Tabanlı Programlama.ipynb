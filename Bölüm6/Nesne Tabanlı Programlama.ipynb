{
 "cells": [
  {
   "cell_type": "markdown",
   "metadata": {},
   "source": [
    "    NESNE TABANLI PROGRAMLAMA"
   ]
  },
  {
   "cell_type": "code",
   "execution_count": 1,
   "metadata": {},
   "outputs": [
    {
     "name": "stdout",
     "output_type": "stream",
     "text": [
      "[2, 5, 6, 5]\n"
     ]
    }
   ],
   "source": [
    "#liste objesi oluşturma\n",
    "liste=[2,5,6]\n",
    "liste.append(5)\n",
    "print(liste)"
   ]
  },
  {
   "cell_type": "code",
   "execution_count": 2,
   "metadata": {},
   "outputs": [
    {
     "name": "stdout",
     "output_type": "stream",
     "text": [
      "[5, 6, 5]\n"
     ]
    }
   ],
   "source": [
    "liste.remove(2)\n",
    "print(liste)"
   ]
  },
  {
   "cell_type": "code",
   "execution_count": 3,
   "metadata": {},
   "outputs": [
    {
     "data": {
      "text/plain": [
       "function"
      ]
     },
     "execution_count": 3,
     "metadata": {},
     "output_type": "execute_result"
    }
   ],
   "source": [
    "#fonksiyon objesi oluşturma\n",
    "def bul(a):\n",
    "    print(\"Bulundu\")\n",
    "type(bul)"
   ]
  },
  {
   "cell_type": "markdown",
   "metadata": {},
   "source": [
    "    SINIFLAR"
   ]
  },
  {
   "cell_type": "code",
   "execution_count": 4,
   "metadata": {},
   "outputs": [],
   "source": [
    "#class: sınıfları oluşturmak için kullanılıyor ve özellikler belirleniyor\n",
    "class Araba(): #Araba adında veritipi\n",
    "    model=\"Megane\" \n",
    "    renk=\"gümüş\"\n",
    " "
   ]
  },
  {
   "cell_type": "code",
   "execution_count": 6,
   "metadata": {},
   "outputs": [
    {
     "name": "stdout",
     "output_type": "stream",
     "text": [
      "gümüş\n"
     ]
    }
   ],
   "source": [
    "#bir sınıftan obje oluşturma\n",
    "araba1=Araba()\n",
    "print(araba1.renk)"
   ]
  },
  {
   "cell_type": "code",
   "execution_count": 7,
   "metadata": {},
   "outputs": [
    {
     "data": {
      "text/plain": [
       "'Megane'"
      ]
     },
     "execution_count": 7,
     "metadata": {},
     "output_type": "execute_result"
    }
   ],
   "source": [
    "araba1.model"
   ]
  },
  {
   "cell_type": "code",
   "execution_count": 8,
   "metadata": {},
   "outputs": [
    {
     "data": {
      "text/plain": [
       "['__class__',\n",
       " '__delattr__',\n",
       " '__dict__',\n",
       " '__dir__',\n",
       " '__doc__',\n",
       " '__eq__',\n",
       " '__format__',\n",
       " '__ge__',\n",
       " '__getattribute__',\n",
       " '__gt__',\n",
       " '__hash__',\n",
       " '__init__',\n",
       " '__init_subclass__',\n",
       " '__le__',\n",
       " '__lt__',\n",
       " '__module__',\n",
       " '__ne__',\n",
       " '__new__',\n",
       " '__reduce__',\n",
       " '__reduce_ex__',\n",
       " '__repr__',\n",
       " '__setattr__',\n",
       " '__sizeof__',\n",
       " '__str__',\n",
       " '__subclasshook__',\n",
       " '__weakref__',\n",
       " 'model',\n",
       " 'renk']"
      ]
     },
     "execution_count": 8,
     "metadata": {},
     "output_type": "execute_result"
    }
   ],
   "source": [
    "dir(araba1)#default olarak oluşturulan ve belirlediğimiz fonksiyonlar"
   ]
  },
  {
   "cell_type": "code",
   "execution_count": 23,
   "metadata": {},
   "outputs": [],
   "source": [
    "#_init_() Fonksiyon Kullanımı\n",
    "#self: objeyi gösteren referanstır\n",
    "class Bilgi():\n",
    "   \n",
    "    def __init__(self,model,renk): #self objeyi gösteren referans\n",
    "        print(\"init fonksiyonu çağırıldı..\")\n",
    "        self.model=model\n",
    "        self.renk=renk"
   ]
  },
  {
   "cell_type": "code",
   "execution_count": 26,
   "metadata": {},
   "outputs": [
    {
     "name": "stdout",
     "output_type": "stream",
     "text": [
      "init fonksiyonu çağırıldı..\n"
     ]
    }
   ],
   "source": [
    "araba=Bilgi(\"Megane\",\"Beyaz\")"
   ]
  },
  {
   "cell_type": "code",
   "execution_count": 27,
   "metadata": {},
   "outputs": [
    {
     "data": {
      "text/plain": [
       "'Megane'"
      ]
     },
     "execution_count": 27,
     "metadata": {},
     "output_type": "execute_result"
    }
   ],
   "source": [
    "araba.model"
   ]
  },
  {
   "cell_type": "code",
   "execution_count": 28,
   "metadata": {},
   "outputs": [
    {
     "data": {
      "text/plain": [
       "'Beyaz'"
      ]
     },
     "execution_count": 28,
     "metadata": {},
     "output_type": "execute_result"
    }
   ],
   "source": [
    "araba.renk"
   ]
  },
  {
   "cell_type": "code",
   "execution_count": 57,
   "metadata": {},
   "outputs": [],
   "source": [
    "#Yazılımcı Bilgileri\n",
    "class Yazılımcılar():\n",
    "    def __init__(self,isim,soyisim,maas,diller):\n",
    "        self.isim=isim\n",
    "        self.soyisim=soyisim\n",
    "        self.maas=maas\n",
    "        self.diller=diller\n",
    "    def göster(self): #yeni metod ekleme\n",
    "        print(\"\"\"\n",
    "        Yazılımcılar:\n",
    "        İsim:{}\n",
    "        Soyisim:{}\n",
    "        Maaş:{}\n",
    "        Diller:{}\n",
    "        \n",
    "        \"\"\".format(self.isim,self.soyisim,self.maas,self.diller)\n",
    ")\n",
    "    def zam(self,zam_miktarı):\n",
    "        self.maas+=int(zam_miktarı)\n",
    "    def dil_ekle(self,dil):\n",
    "        print(\"ekleniyor..\")\n",
    "        self.diller.append(dil)"
   ]
  },
  {
   "cell_type": "code",
   "execution_count": 58,
   "metadata": {},
   "outputs": [
    {
     "name": "stdout",
     "output_type": "stream",
     "text": [
      "<__main__.Yazılımcılar object at 0x0000024353E18B38>\n"
     ]
    }
   ],
   "source": [
    "yazılımcı=Yazılımcılar(\"Ebru\",\"Somuncu\",\"0000\",[\"Pyhton\",\"C\"])\n",
    "print(yazılımcı)"
   ]
  },
  {
   "cell_type": "code",
   "execution_count": 59,
   "metadata": {},
   "outputs": [
    {
     "name": "stdout",
     "output_type": "stream",
     "text": [
      "\n",
      "        Yazılımcılar:\n",
      "        İsim:Ebru\n",
      "        Soyisim:Somuncu\n",
      "        Maaş:0000\n",
      "        Diller:['Pyhton', 'C']\n",
      "        \n",
      "        \n"
     ]
    }
   ],
   "source": [
    "yazılımcı.göster()"
   ]
  },
  {
   "cell_type": "code",
   "execution_count": 43,
   "metadata": {},
   "outputs": [
    {
     "name": "stdout",
     "output_type": "stream",
     "text": [
      "<__main__.Yazılımcılar object at 0x0000024353DFBFD0>\n"
     ]
    }
   ],
   "source": [
    "yazılımcı1=Yazılımcılar(\"Oylum\",\"Avcı\",\"0000\",[\"Java\",\"C++\"])\n",
    "print(yazılımcı1)"
   ]
  },
  {
   "cell_type": "code",
   "execution_count": 45,
   "metadata": {},
   "outputs": [
    {
     "name": "stdout",
     "output_type": "stream",
     "text": [
      "\n",
      "        Yazılımcılar:\n",
      "        İsim:Oylum\n",
      "        Soyisim:Avcı\n",
      "        Maaş:0000\n",
      "        Diller:['Java', 'C++']\n",
      "        \n",
      "        \n"
     ]
    }
   ],
   "source": [
    "yazılımcı1.göster()"
   ]
  },
  {
   "cell_type": "code",
   "execution_count": 60,
   "metadata": {},
   "outputs": [
    {
     "name": "stdout",
     "output_type": "stream",
     "text": [
      "ekleniyor..\n",
      "\n",
      "        Yazılımcılar:\n",
      "        İsim:Ebru\n",
      "        Soyisim:Somuncu\n",
      "        Maaş:0000\n",
      "        Diller:['Pyhton', 'C', 'Javascript']\n",
      "        \n",
      "        \n"
     ]
    }
   ],
   "source": [
    "yazılımcı.dil_ekle(\"Javascript\")\n",
    "yazılımcı.göster()"
   ]
  },
  {
   "cell_type": "markdown",
   "metadata": {},
   "source": [
    "    KALITIM (İNHERİTANCE)"
   ]
  },
  {
   "cell_type": "code",
   "execution_count": 84,
   "metadata": {},
   "outputs": [],
   "source": [
    "#bir classın başka bir classa ait method ve özelleri kullanması\n",
    "class Calısan():\n",
    "    def __init__(self,isim,maas,departman):\n",
    "        print(\"Çalışan sınıfının init fonksiyonu\")\n",
    "        self.isim=isim\n",
    "        self.maas=int(maas)\n",
    "        self.departman=departman\n",
    "    def bilgileri_goster(self):\n",
    "        print(\"Çalışan sınıf bilgileri....\")\n",
    "        print(\"\"\"\n",
    "        İsim:{}\n",
    "        Maas:{}\n",
    "        Departman:{}\n",
    "        \"\"\".format(self.isim,self.maas,self.departman))\n",
    "    def departman_ekle(self,yeni_departman):\n",
    "        self.departman=yeni_departman\n"
   ]
  },
  {
   "cell_type": "code",
   "execution_count": 85,
   "metadata": {},
   "outputs": [],
   "source": [
    "class Yönetici(Calısan): #Calısan sınıfına ait bilgiler ve methodların kullanımı\n",
    "    pass"
   ]
  },
  {
   "cell_type": "code",
   "execution_count": 77,
   "metadata": {},
   "outputs": [
    {
     "name": "stdout",
     "output_type": "stream",
     "text": [
      "Çalışan sınıfının init fonksiyonu\n"
     ]
    }
   ],
   "source": [
    "yönetici=Yönetici(\"Ebru\",\"001\",\"Öğrenci\")\n",
    "#burada yönetici objesi ile Calısan sınıfına ait özellikleri kullanabiliyoruz"
   ]
  },
  {
   "cell_type": "code",
   "execution_count": 78,
   "metadata": {},
   "outputs": [
    {
     "name": "stdout",
     "output_type": "stream",
     "text": [
      "Çalışan sınıf bilgileri....\n",
      "\n",
      "        İsim:Ebru\n",
      "        Maas:001\n",
      "        Departman:Öğrenci\n",
      "        \n"
     ]
    }
   ],
   "source": [
    "yönetici.bilgileri_goster()"
   ]
  },
  {
   "cell_type": "code",
   "execution_count": 79,
   "metadata": {},
   "outputs": [
    {
     "name": "stdout",
     "output_type": "stream",
     "text": [
      "Çalışan sınıf bilgileri....\n",
      "\n",
      "        İsim:Ebru\n",
      "        Maas:001\n",
      "        Departman:İnsan Kaynakları\n",
      "        \n"
     ]
    }
   ],
   "source": [
    "yönetici.departman_ekle(\"İnsan Kaynakları\")\n",
    "yönetici.bilgileri_goster()"
   ]
  },
  {
   "cell_type": "code",
   "execution_count": 80,
   "metadata": {},
   "outputs": [
    {
     "data": {
      "text/plain": [
       "['__class__',\n",
       " '__delattr__',\n",
       " '__dict__',\n",
       " '__dir__',\n",
       " '__doc__',\n",
       " '__eq__',\n",
       " '__format__',\n",
       " '__ge__',\n",
       " '__getattribute__',\n",
       " '__gt__',\n",
       " '__hash__',\n",
       " '__init__',\n",
       " '__init_subclass__',\n",
       " '__le__',\n",
       " '__lt__',\n",
       " '__module__',\n",
       " '__ne__',\n",
       " '__new__',\n",
       " '__reduce__',\n",
       " '__reduce_ex__',\n",
       " '__repr__',\n",
       " '__setattr__',\n",
       " '__sizeof__',\n",
       " '__str__',\n",
       " '__subclasshook__',\n",
       " '__weakref__',\n",
       " 'bilgileri_goster',\n",
       " 'departman',\n",
       " 'departman_ekle',\n",
       " 'isim',\n",
       " 'maas']"
      ]
     },
     "execution_count": 80,
     "metadata": {},
     "output_type": "execute_result"
    }
   ],
   "source": [
    "dir(yönetici)#objeye ait özellikler"
   ]
  },
  {
   "cell_type": "code",
   "execution_count": 86,
   "metadata": {},
   "outputs": [],
   "source": [
    "#Yönetici sınıfına method yazma\n",
    "class Yönetici(Calısan):\n",
    "    def zam_yap(self,zam_miktarı):\n",
    "        self.maas+=zam_miktarı"
   ]
  },
  {
   "cell_type": "code",
   "execution_count": 91,
   "metadata": {},
   "outputs": [
    {
     "name": "stdout",
     "output_type": "stream",
     "text": [
      "Çalışan sınıfının init fonksiyonu\n",
      "Çalışan sınıf bilgileri....\n",
      "\n",
      "        İsim:Fatma\n",
      "        Maas:3000\n",
      "        Departman:Pazarlama\n",
      "        \n"
     ]
    }
   ],
   "source": [
    "yönetici1=Yönetici(\"Fatma\",\"3000\",\"Pazarlama\")\n",
    "yönetici1.bilgileri_goster()"
   ]
  },
  {
   "cell_type": "code",
   "execution_count": 92,
   "metadata": {},
   "outputs": [
    {
     "name": "stdout",
     "output_type": "stream",
     "text": [
      "Çalışan sınıf bilgileri....\n",
      "\n",
      "        İsim:Fatma\n",
      "        Maas:4700\n",
      "        Departman:Pazarlama\n",
      "        \n"
     ]
    }
   ],
   "source": [
    "yönetici1.zam_yap(1700)\n",
    "yönetici1.bilgileri_goster()"
   ]
  },
  {
   "cell_type": "markdown",
   "metadata": {},
   "source": [
    "    OVERRİDİNG(İPTAL ETME)"
   ]
  },
  {
   "cell_type": "code",
   "execution_count": 93,
   "metadata": {},
   "outputs": [],
   "source": [
    "#bir classın başka bir classa ait method ve özelleri kullanması\n",
    "class Calısan():\n",
    "    def __init__(self,isim,maas,departman):\n",
    "        print(\"Çalışan sınıfının init fonksiyonu\")\n",
    "        self.isim=isim\n",
    "        self.maas=int(maas)\n",
    "        self.departman=departman\n",
    "    def bilgileri_goster(self):\n",
    "        print(\"Çalışan sınıf bilgileri....\")\n",
    "        print(\"\"\"\n",
    "        İsim:{}\n",
    "        Maas:{}\n",
    "        Departman:{}\n",
    "        \"\"\".format(self.isim,self.maas,self.departman))\n",
    "    def departman_ekle(self,yeni_departman):\n",
    "        self.departman=yeni_departman\n"
   ]
  },
  {
   "cell_type": "code",
   "execution_count": 99,
   "metadata": {},
   "outputs": [],
   "source": [
    "#Yönetici sınıfına method yazma\n",
    "class Yönetici(Calısan):\n",
    "     def __init__(self,isim,maas,departman,kisi_sayısı):\n",
    "        print(\"Yönetici sınıfının init fonksiyonu\")\n",
    "        self.isim=isim\n",
    "        self.maas=int(maas)\n",
    "        self.departman=departman\n",
    "        self.kisi_sayısı=kisi_sayısı"
   ]
  },
  {
   "cell_type": "code",
   "execution_count": 102,
   "metadata": {},
   "outputs": [
    {
     "name": "stdout",
     "output_type": "stream",
     "text": [
      "Yönetici sınıfının init fonksiyonu\n",
      "Çalışan sınıf bilgileri....\n",
      "\n",
      "        İsim:Ebru Somuncu\n",
      "        Maas:2500\n",
      "        Departman:Ulaşım\n",
      "        \n"
     ]
    }
   ],
   "source": [
    "yönetici1=Yönetici(\"Ebru Somuncu\",2500,\"Ulaşım\",10) #Yönetici sınıfının methodu\n",
    "yönetici1.bilgileri_goster() #Calısan sınıfının metodu"
   ]
  },
  {
   "cell_type": "markdown",
   "metadata": {},
   "source": [
    "    SUPER ANAHTAR"
   ]
  },
  {
   "cell_type": "code",
   "execution_count": 103,
   "metadata": {},
   "outputs": [],
   "source": [
    "class Calısan():\n",
    "    def __init__(self,isim,maas,departman):\n",
    "        print(\"Çalışan sınıfının init fonksiyonu\")\n",
    "        self.isim=isim\n",
    "        self.maas=int(maas)\n",
    "        self.departman=departman"
   ]
  },
  {
   "cell_type": "code",
   "execution_count": 106,
   "metadata": {},
   "outputs": [],
   "source": [
    "#Yönetici sınıfına method yazma\n",
    "class Yönetici(Calısan):\n",
    "     def __init__(self,isim,maas,departman,kisi_sayısı):\n",
    "        super().__init__(isim,maas,departman)\n",
    "        print(\"Yönetici sınıfının init fonksiyonu\")\n",
    "        self.kisi_sayısı=kisi_sayısı"
   ]
  },
  {
   "cell_type": "code",
   "execution_count": 107,
   "metadata": {},
   "outputs": [
    {
     "name": "stdout",
     "output_type": "stream",
     "text": [
      "Çalışan sınıfının init fonksiyonu\n",
      "Yönetici sınıfının init fonksiyonu\n"
     ]
    }
   ],
   "source": [
    "yönetici=Yönetici(\"Ebru Somuncu\",2540,\"Programlama\",\"10\")"
   ]
  },
  {
   "cell_type": "markdown",
   "metadata": {},
   "source": [
    "    ÖZEL METHOD TANIMLAMA"
   ]
  },
  {
   "cell_type": "code",
   "execution_count": 108,
   "metadata": {},
   "outputs": [],
   "source": [
    "class Kitap():\n",
    "    pass #şuan bilgi girilmeyecek"
   ]
  },
  {
   "cell_type": "code",
   "execution_count": 113,
   "metadata": {},
   "outputs": [
    {
     "name": "stdout",
     "output_type": "stream",
     "text": [
      "<__main__.Kitap object at 0x0000024353E239B0>\n"
     ]
    }
   ],
   "source": [
    "kitap=Kitap() # __init__ metodu\n",
    "print(kitap) # __str__ metodu"
   ]
  },
  {
   "cell_type": "code",
   "execution_count": 114,
   "metadata": {},
   "outputs": [],
   "source": [
    "del kitap #objeyi silmek  # __del__ metodu"
   ]
  },
  {
   "cell_type": "code",
   "execution_count": 140,
   "metadata": {},
   "outputs": [],
   "source": [
    "class Kitap():\n",
    "    def __init__(self,kitap,yazar,sayfa_sayısı,tur):\n",
    "        self.kitap=kitap\n",
    "        self.yazar=yazar\n",
    "        self.sayfa_sayısı=int(sayfa_sayısı)\n",
    "        self.tur=tur\n",
    "    def __str__(self): #kendi str methodumuzu oluşturuyoruz\n",
    "        return (\"İsim:{}\\nYazar:{}\\nSayfa Sayısı:{}\\nTür:{}\".format(self.kitap,self.yazar,self.sayfa_sayısı,self.tur))\n",
    "    def __len__(self):\n",
    "        return self.sayfa_sayısı\n",
    "    def __del__(self):\n",
    "        print(\"Kitap objesi silindi..\")"
   ]
  },
  {
   "cell_type": "code",
   "execution_count": 142,
   "metadata": {},
   "outputs": [],
   "source": [
    "kitap2=Kitap(\"Aşk ve Gurur\",\"Jane Austen\",\"600\",\"Roman\")"
   ]
  },
  {
   "cell_type": "code",
   "execution_count": 143,
   "metadata": {},
   "outputs": [
    {
     "name": "stdout",
     "output_type": "stream",
     "text": [
      "İsim:Aşk ve Gurur\n",
      "Yazar:Jane Austen\n",
      "Sayfa Sayısı:600\n",
      "Tür:Roman\n"
     ]
    }
   ],
   "source": [
    "print(kitap2)"
   ]
  },
  {
   "cell_type": "code",
   "execution_count": 144,
   "metadata": {},
   "outputs": [
    {
     "data": {
      "text/plain": [
       "600"
      ]
     },
     "execution_count": 144,
     "metadata": {},
     "output_type": "execute_result"
    }
   ],
   "source": [
    "len(kitap2) #kitap sayısını göstericek"
   ]
  },
  {
   "cell_type": "code",
   "execution_count": 145,
   "metadata": {},
   "outputs": [
    {
     "name": "stdout",
     "output_type": "stream",
     "text": [
      "Kitap objesi silindi..\n"
     ]
    }
   ],
   "source": [
    "del(kitap2)"
   ]
  },
  {
   "cell_type": "code",
   "execution_count": null,
   "metadata": {},
   "outputs": [],
   "source": []
  }
 ],
 "metadata": {
  "kernelspec": {
   "display_name": "Python 3",
   "language": "python",
   "name": "python3"
  },
  "language_info": {
   "codemirror_mode": {
    "name": "ipython",
    "version": 3
   },
   "file_extension": ".py",
   "mimetype": "text/x-python",
   "name": "python",
   "nbconvert_exporter": "python",
   "pygments_lexer": "ipython3",
   "version": "3.7.3"
  }
 },
 "nbformat": 4,
 "nbformat_minor": 2
}
