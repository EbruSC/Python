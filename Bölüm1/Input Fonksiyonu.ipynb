{
 "cells": [
  {
   "cell_type": "markdown",
   "metadata": {},
   "source": [
    "INPUT FONKSİYONU KULLANICIDAN VERİ ALMAK İÇİN KULLANILIR."
   ]
  },
  {
   "cell_type": "code",
   "execution_count": 1,
   "metadata": {},
   "outputs": [
    {
     "name": "stdout",
     "output_type": "stream",
     "text": [
      "sayı giriniz:6\n"
     ]
    },
    {
     "data": {
      "text/plain": [
       "'6'"
      ]
     },
     "execution_count": 1,
     "metadata": {},
     "output_type": "execute_result"
    }
   ],
   "source": [
    "input(\"sayı giriniz:\")"
   ]
  },
  {
   "cell_type": "code",
   "execution_count": 2,
   "metadata": {},
   "outputs": [
    {
     "name": "stdout",
     "output_type": "stream",
     "text": [
      "3\n"
     ]
    },
    {
     "data": {
      "text/plain": [
       "'3'"
      ]
     },
     "execution_count": 2,
     "metadata": {},
     "output_type": "execute_result"
    }
   ],
   "source": [
    "input()"
   ]
  },
  {
   "cell_type": "code",
   "execution_count": 6,
   "metadata": {},
   "outputs": [
    {
     "name": "stdout",
     "output_type": "stream",
     "text": [
      "adınızı giriniz:ebru\n",
      "girilen isim: ebru\n"
     ]
    }
   ],
   "source": [
    "kelime=input(\"adınızı giriniz:\")\n",
    "print(\"girilen isim:\",kelime)"
   ]
  },
  {
   "cell_type": "code",
   "execution_count": 7,
   "metadata": {},
   "outputs": [
    {
     "name": "stdout",
     "output_type": "stream",
     "text": [
      "sayı girin:2\n",
      "222\n"
     ]
    }
   ],
   "source": [
    "# input ile alınan değer string olarak algılanmaktadır..\n",
    "a=input(\"sayı girin:\")\n",
    "print(a*3) "
   ]
  },
  {
   "cell_type": "code",
   "execution_count": 8,
   "metadata": {},
   "outputs": [
    {
     "name": "stdout",
     "output_type": "stream",
     "text": [
      "<class 'str'>\n"
     ]
    }
   ],
   "source": [
    "print(type(a)) # burada string olarak algılandığını görebiliriz"
   ]
  },
  {
   "cell_type": "code",
   "execution_count": 9,
   "metadata": {},
   "outputs": [
    {
     "name": "stdout",
     "output_type": "stream",
     "text": [
      "6\n"
     ]
    }
   ],
   "source": [
    "print(int(a)*3) # burada alınan ifade int tipine dönüştürülür ve 3 katı alınır"
   ]
  },
  {
   "cell_type": "markdown",
   "metadata": {},
   "source": [
    "KULLANICIDAN ALINAN 3 SAYININ TOPLAMI"
   ]
  },
  {
   "cell_type": "code",
   "execution_count": 12,
   "metadata": {},
   "outputs": [
    {
     "name": "stdout",
     "output_type": "stream",
     "text": [
      "1.sayıyı girin:5\n",
      "2.sayıyı girin:9\n",
      "3.sayıyı girin:4\n",
      "18\n"
     ]
    }
   ],
   "source": [
    "a=input(\"1.sayıyı girin:\")\n",
    "b=input(\"2.sayıyı girin:\")\n",
    "c=input(\"3.sayıyı girin:\")\n",
    "toplam=int(a)+int(b)+int(c) \n",
    "print(toplam)"
   ]
  },
  {
   "cell_type": "code",
   "execution_count": 13,
   "metadata": {},
   "outputs": [
    {
     "name": "stdout",
     "output_type": "stream",
     "text": [
      "sayı giriniz:23.1\n"
     ]
    },
    {
     "ename": "ValueError",
     "evalue": "invalid literal for int() with base 10: '23.1'",
     "output_type": "error",
     "traceback": [
      "\u001b[1;31m---------------------------------------------------------------------------\u001b[0m",
      "\u001b[1;31mValueError\u001b[0m                                Traceback (most recent call last)",
      "\u001b[1;32m<ipython-input-13-0cdcdea28bc6>\u001b[0m in \u001b[0;36m<module>\u001b[1;34m\u001b[0m\n\u001b[1;32m----> 1\u001b[1;33m \u001b[0msayıal\u001b[0m\u001b[1;33m=\u001b[0m\u001b[0mint\u001b[0m\u001b[1;33m(\u001b[0m\u001b[0minput\u001b[0m\u001b[1;33m(\u001b[0m\u001b[1;34m\"sayı giriniz:\"\u001b[0m\u001b[1;33m)\u001b[0m\u001b[1;33m)\u001b[0m\u001b[1;33m\u001b[0m\u001b[1;33m\u001b[0m\u001b[0m\n\u001b[0m",
      "\u001b[1;31mValueError\u001b[0m: invalid literal for int() with base 10: '23.1'"
     ]
    }
   ],
   "source": [
    "sayıal=int(input(\"sayı giriniz:\")) # giriş değerinin yanlış formatta girilmesi"
   ]
  },
  {
   "cell_type": "code",
   "execution_count": 1,
   "metadata": {},
   "outputs": [
    {
     "name": "stdout",
     "output_type": "stream",
     "text": [
      "1.sayıyı girin:5\n",
      "2.sayıyı girin:9\n",
      "3.sayıyı girin:4\n",
      "Toplam: 594\n"
     ]
    }
   ],
   "source": [
    "a=input(\"1.sayıyı girin:\")\n",
    "b=input(\"2.sayıyı girin:\")\n",
    "c=input(\"3.sayıyı girin:\")\n",
    "print(\"Toplam:\",a+b+c) #dönüşüm olmadığından string olarak yazar"
   ]
  },
  {
   "cell_type": "code",
   "execution_count": null,
   "metadata": {},
   "outputs": [],
   "source": []
  }
 ],
 "metadata": {
  "kernelspec": {
   "display_name": "Python 3",
   "language": "python",
   "name": "python3"
  },
  "language_info": {
   "codemirror_mode": {
    "name": "ipython",
    "version": 3
   },
   "file_extension": ".py",
   "mimetype": "text/x-python",
   "name": "python",
   "nbconvert_exporter": "python",
   "pygments_lexer": "ipython3",
   "version": "3.7.3"
  }
 },
 "nbformat": 4,
 "nbformat_minor": 2
}
