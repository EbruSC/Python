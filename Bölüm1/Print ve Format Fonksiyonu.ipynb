{
 "cells": [
  {
   "cell_type": "markdown",
   "metadata": {
    "slideshow": {
     "slide_type": "-"
    }
   },
   "source": [
    "Print() Fonksiyonu: Ekrana değer basmak için kullanılır."
   ]
  },
  {
   "cell_type": "code",
   "execution_count": 1,
   "metadata": {},
   "outputs": [
    {
     "name": "stdout",
     "output_type": "stream",
     "text": [
      "5\n"
     ]
    }
   ],
   "source": [
    "print(5)"
   ]
  },
  {
   "cell_type": "code",
   "execution_count": 2,
   "metadata": {},
   "outputs": [
    {
     "name": "stdout",
     "output_type": "stream",
     "text": [
      "Ebru\n"
     ]
    }
   ],
   "source": [
    "kelime=\"Ebru\"\n",
    "print(kelime)"
   ]
  },
  {
   "cell_type": "code",
   "execution_count": 3,
   "metadata": {},
   "outputs": [
    {
     "name": "stdout",
     "output_type": "stream",
     "text": [
      "12546\n"
     ]
    }
   ],
   "source": [
    "a=\"12546\"\n",
    "a=int(a) #stringi sayısal değere dönüştür\n",
    "print(a)"
   ]
  },
  {
   "cell_type": "code",
   "execution_count": 4,
   "metadata": {},
   "outputs": [
    {
     "name": "stdout",
     "output_type": "stream",
     "text": [
      "Karabük Üniversitesi Bilgisayar Mühendisliği\n"
     ]
    }
   ],
   "source": [
    "a=\"Karabük\"\n",
    "b=\"Üniversitesi\"\n",
    "c=\"Bilgisayar\"\n",
    "d=\"Mühendisliği\"\n",
    "print(a,b,c,d)"
   ]
  },
  {
   "cell_type": "markdown",
   "metadata": {},
   "source": [
    "Stringlerde Özel Karakterler (\\n , \\t)"
   ]
  },
  {
   "cell_type": "code",
   "execution_count": 17,
   "metadata": {},
   "outputs": [
    {
     "name": "stdout",
     "output_type": "stream",
     "text": [
      "Merhaba\n",
      "Dünya\n"
     ]
    }
   ],
   "source": [
    "#\\n alt satıra inme işlemini sağlar\n",
    "print(\"Merhaba\\nDünya\")\n"
   ]
  },
  {
   "cell_type": "code",
   "execution_count": 13,
   "metadata": {},
   "outputs": [
    {
     "name": "stdout",
     "output_type": "stream",
     "text": [
      "Eylül\tEkim\tKasım\n"
     ]
    }
   ],
   "source": [
    "#\\t bir tab boşluk bırakır\n",
    "print(\"Eylül\\tEkim\\tKasım\")"
   ]
  },
  {
   "cell_type": "markdown",
   "metadata": {},
   "source": [
    "type()Fonksiyonu: İçine gönderilen değerin tipini belirtir"
   ]
  },
  {
   "cell_type": "code",
   "execution_count": 15,
   "metadata": {},
   "outputs": [
    {
     "name": "stdout",
     "output_type": "stream",
     "text": [
      "<class 'int'>\n"
     ]
    }
   ],
   "source": [
    "print(type(5))"
   ]
  },
  {
   "cell_type": "code",
   "execution_count": 16,
   "metadata": {},
   "outputs": [
    {
     "data": {
      "text/plain": [
       "str"
      ]
     },
     "execution_count": 16,
     "metadata": {},
     "output_type": "execute_result"
    }
   ],
   "source": [
    "type(\"Ebru\")"
   ]
  },
  {
   "cell_type": "markdown",
   "metadata": {},
   "source": [
    "sep parametresi: Değerlerin arasına işaret konulmasını sağlar"
   ]
  },
  {
   "cell_type": "code",
   "execution_count": 19,
   "metadata": {},
   "outputs": [
    {
     "name": "stdout",
     "output_type": "stream",
     "text": [
      "5/9/3\n"
     ]
    }
   ],
   "source": [
    "a=5\n",
    "b=9\n",
    "c=3\n",
    "print(a,b,c,sep=\"/\") #burada print ifadesi içindeki sayıların arasına / konulur"
   ]
  },
  {
   "cell_type": "code",
   "execution_count": 20,
   "metadata": {},
   "outputs": [
    {
     "name": "stdout",
     "output_type": "stream",
     "text": [
      "ebru*somuncu*karabük\n"
     ]
    }
   ],
   "source": [
    "print(\"ebru\",\"somuncu\",\"karabük\",sep=\"*\")"
   ]
  },
  {
   "cell_type": "code",
   "execution_count": 21,
   "metadata": {},
   "outputs": [
    {
     "name": "stdout",
     "output_type": "stream",
     "text": [
      "ebru\n",
      "somuncu\n",
      "karabük\n"
     ]
    }
   ],
   "source": [
    "print(\"ebru\",\"somuncu\",\"karabük\",sep=\"\\n\")"
   ]
  },
  {
   "cell_type": "code",
   "execution_count": 23,
   "metadata": {},
   "outputs": [
    {
     "name": "stdout",
     "output_type": "stream",
     "text": [
      "15/09/1993\n"
     ]
    }
   ],
   "source": [
    "print(\"15\",\"09\",\"1993\",sep=\"/\")"
   ]
  },
  {
   "cell_type": "markdown",
   "metadata": {},
   "source": [
    "Yıldızlı Parametreler: Varsayılan olarak karakterlerin arasına boşluk konulur."
   ]
  },
  {
   "cell_type": "code",
   "execution_count": 24,
   "metadata": {},
   "outputs": [
    {
     "name": "stdout",
     "output_type": "stream",
     "text": [
      "K a r a b ü k\n"
     ]
    }
   ],
   "source": [
    "print(*\"Karabük\")"
   ]
  },
  {
   "cell_type": "code",
   "execution_count": 25,
   "metadata": {},
   "outputs": [
    {
     "name": "stdout",
     "output_type": "stream",
     "text": [
      "K/a/r/a/b/ü/k\n"
     ]
    }
   ],
   "source": [
    "print(*\"Karabük\",sep=\"/\")"
   ]
  },
  {
   "cell_type": "code",
   "execution_count": 26,
   "metadata": {},
   "outputs": [
    {
     "name": "stdout",
     "output_type": "stream",
     "text": [
      "T.B.M.M\n"
     ]
    }
   ],
   "source": [
    "print(*\"TBMM\",sep=\".\")"
   ]
  },
  {
   "cell_type": "markdown",
   "metadata": {},
   "source": [
    "STRİNGLERDE FORMATLAMA(BİÇİMLENDİRME)"
   ]
  },
  {
   "cell_type": "code",
   "execution_count": 27,
   "metadata": {},
   "outputs": [
    {
     "name": "stdout",
     "output_type": "stream",
     "text": [
      "5 ile 2 nin toplamı: 7 dir\n"
     ]
    }
   ],
   "source": [
    "# {} parantez içine format fonksiyonunun içindeki değerler gelmektedir\n",
    "a=5\n",
    "b=2\n",
    "print(\"{} ile {} nin toplamı: {} dir\".format(a,b,a+b))"
   ]
  },
  {
   "cell_type": "code",
   "execution_count": 28,
   "metadata": {},
   "outputs": [
    {
     "name": "stdout",
     "output_type": "stream",
     "text": [
      "Karabük,Ebru,251\n"
     ]
    }
   ],
   "source": [
    "print(\"{2},{0},{1}\".format(\"Ebru\",251,\"Karabük\")) \n",
    "#ilk kısımda değerlerin nereye alınacağı format kısmında hangi değerlerin alınacağı"
   ]
  },
  {
   "cell_type": "code",
   "execution_count": 29,
   "metadata": {},
   "outputs": [
    {
     "name": "stdout",
     "output_type": "stream",
     "text": [
      "24.58,3.257\n"
     ]
    }
   ],
   "source": [
    "print(\"{:.2f},{:.3f}\".format(24.5786,3.2568))"
   ]
  },
  {
   "cell_type": "markdown",
   "metadata": {},
   "source": [
    "PyFormat sitesi üzerinde format fonksiyonuna ait birçok özellik mevcuttur."
   ]
  }
 ],
 "metadata": {
  "kernelspec": {
   "display_name": "Python 3",
   "language": "python",
   "name": "python3"
  },
  "language_info": {
   "codemirror_mode": {
    "name": "ipython",
    "version": 3
   },
   "file_extension": ".py",
   "mimetype": "text/x-python",
   "name": "python",
   "nbconvert_exporter": "python",
   "pygments_lexer": "ipython3",
   "version": "3.7.3"
  }
 },
 "nbformat": 4,
 "nbformat_minor": 2
}
