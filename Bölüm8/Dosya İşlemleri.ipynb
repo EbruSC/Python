{
 "cells": [
  {
   "cell_type": "markdown",
   "metadata": {},
   "source": [
    "    DOSYAYA YAZMA İŞLEMLERİ"
   ]
  },
  {
   "cell_type": "code",
   "execution_count": 1,
   "metadata": {},
   "outputs": [],
   "source": [
    "#dosya açma - w\n",
    "file=open(\"bilgi.txt\",\"w\")"
   ]
  },
  {
   "cell_type": "code",
   "execution_count": 4,
   "metadata": {},
   "outputs": [],
   "source": [
    "#yol belirterek istediğimiz alanda dosya oluşturabiliriz\n",
    "file1=open(\"C:/Users/Ebru/Desktop/bilgi.txt\",\"w\")"
   ]
  },
  {
   "cell_type": "code",
   "execution_count": 5,
   "metadata": {},
   "outputs": [],
   "source": [
    "#dosya kapatma\n",
    "file1.close()"
   ]
  },
  {
   "cell_type": "code",
   "execution_count": 6,
   "metadata": {},
   "outputs": [],
   "source": [
    "#dosya açma\n",
    "file=open(\"bilgi.txt\",\"w\")"
   ]
  },
  {
   "cell_type": "code",
   "execution_count": 7,
   "metadata": {},
   "outputs": [
    {
     "data": {
      "text/plain": [
       "12"
      ]
     },
     "execution_count": 7,
     "metadata": {},
     "output_type": "execute_result"
    }
   ],
   "source": [
    "file.write(\"Ebru Somuncu\")"
   ]
  },
  {
   "cell_type": "code",
   "execution_count": 8,
   "metadata": {},
   "outputs": [
    {
     "data": {
      "text/plain": [
       "20"
      ]
     },
     "execution_count": 8,
     "metadata": {},
     "output_type": "execute_result"
    }
   ],
   "source": [
    "file.write(\"Karabük Üniversitesi\")\n",
    "#Türkçe karakter kullanım hatasını engellemek için; encoding=\"utf-8\""
   ]
  },
  {
   "cell_type": "code",
   "execution_count": 9,
   "metadata": {},
   "outputs": [],
   "source": [
    "file2=open(\"bilgiler.txt\",\"w\",encoding=\"utf-8\")"
   ]
  },
  {
   "cell_type": "code",
   "execution_count": 10,
   "metadata": {},
   "outputs": [
    {
     "data": {
      "text/plain": [
       "20"
      ]
     },
     "execution_count": 10,
     "metadata": {},
     "output_type": "execute_result"
    }
   ],
   "source": [
    "file2.write(\"Karabük Üniversitesi\")"
   ]
  },
  {
   "cell_type": "code",
   "execution_count": 11,
   "metadata": {},
   "outputs": [],
   "source": [
    "file2.close()"
   ]
  },
  {
   "cell_type": "code",
   "execution_count": 12,
   "metadata": {},
   "outputs": [],
   "source": [
    "file2=open(\"bilgiler.txt\",\"w\",encoding=\"utf-8\")\n",
    "file2.close() # w ile açılan dosyanın her defasında içeriği sıfırlanır"
   ]
  },
  {
   "cell_type": "code",
   "execution_count": 13,
   "metadata": {},
   "outputs": [],
   "source": [
    "file=open(\"a_kipi.txt\",\"a\",encoding=\"utf-8\")\n",
    "file.write(\"Ebru Somuncu\")\n",
    "file.close()"
   ]
  },
  {
   "cell_type": "code",
   "execution_count": 14,
   "metadata": {},
   "outputs": [],
   "source": [
    "file=open(\"a_kipi.txt\",\"a\",encoding=\"utf-8\")\n",
    "file.write(\"Karabük Üniversitesi\")\n",
    "file.close()"
   ]
  },
  {
   "cell_type": "code",
   "execution_count": 15,
   "metadata": {},
   "outputs": [],
   "source": [
    "#dosyada alt alta yazmak\n",
    "file=open(\"a_kipi.txt\",\"a\",encoding=\"utf-8\")\n",
    "file.write(\"Bilgisayar Mühendisliği\\n\")\n",
    "file.close()"
   ]
  },
  {
   "cell_type": "code",
   "execution_count": 18,
   "metadata": {},
   "outputs": [],
   "source": [
    "file=open(\"a_kipi.txt\",\"a\",encoding=\"utf-8\")\n",
    "file.write(\"YL_2.sınıf\\n\")\n",
    "file.close()"
   ]
  },
  {
   "cell_type": "markdown",
   "metadata": {},
   "source": [
    "    DOSYADAN OKUMA İŞLEMLERİ"
   ]
  },
  {
   "cell_type": "code",
   "execution_count": 21,
   "metadata": {},
   "outputs": [],
   "source": [
    "file3=open(\"bilgi.txt\",\"a\",encoding=\"utf-8\")\n",
    "file3.write(\"Karabük\\n\")\n",
    "file3.write(\"Zonguldak\\n\")\n",
    "file3.write(\"İstanbul\\n\")\n",
    "file3.close()"
   ]
  },
  {
   "cell_type": "code",
   "execution_count": 22,
   "metadata": {},
   "outputs": [],
   "source": [
    "# var olan dosyayı okuma\n",
    "file3=open(\"bilgi.txt\",\"r\")"
   ]
  },
  {
   "cell_type": "code",
   "execution_count": 23,
   "metadata": {},
   "outputs": [
    {
     "ename": "FileNotFoundError",
     "evalue": "[Errno 2] No such file or directory: 'b.txt'",
     "output_type": "error",
     "traceback": [
      "\u001b[1;31m---------------------------------------------------------------------------\u001b[0m",
      "\u001b[1;31mFileNotFoundError\u001b[0m                         Traceback (most recent call last)",
      "\u001b[1;32m<ipython-input-23-2b1071870669>\u001b[0m in \u001b[0;36m<module>\u001b[1;34m\u001b[0m\n\u001b[0;32m      1\u001b[0m \u001b[1;31m# okumak için dosya bulunamadı\u001b[0m\u001b[1;33m\u001b[0m\u001b[1;33m\u001b[0m\u001b[1;33m\u001b[0m\u001b[0m\n\u001b[1;32m----> 2\u001b[1;33m \u001b[0mfile3\u001b[0m\u001b[1;33m=\u001b[0m\u001b[0mopen\u001b[0m\u001b[1;33m(\u001b[0m\u001b[1;34m\"b.txt\"\u001b[0m\u001b[1;33m,\u001b[0m\u001b[1;34m\"r\"\u001b[0m\u001b[1;33m)\u001b[0m\u001b[1;33m\u001b[0m\u001b[1;33m\u001b[0m\u001b[0m\n\u001b[0m",
      "\u001b[1;31mFileNotFoundError\u001b[0m: [Errno 2] No such file or directory: 'b.txt'"
     ]
    }
   ],
   "source": [
    "# okumak için dosya bulunamadı\n",
    "file3=open(\"b.txt\",\"r\")"
   ]
  },
  {
   "cell_type": "code",
   "execution_count": 24,
   "metadata": {},
   "outputs": [
    {
     "name": "stdout",
     "output_type": "stream",
     "text": [
      "FileNotFoundError \n"
     ]
    }
   ],
   "source": [
    "try:\n",
    "    file3=open(\"b.txt\",\"r\")\n",
    "except:\n",
    "    print(\"FileNotFoundError \")\n",
    "    "
   ]
  },
  {
   "cell_type": "code",
   "execution_count": 25,
   "metadata": {},
   "outputs": [
    {
     "name": "stdout",
     "output_type": "stream",
     "text": [
      "Hata!!\n"
     ]
    }
   ],
   "source": [
    "try:\n",
    "    file3=open(\"b.txt\",\"r\")\n",
    "except FileNotFoundError:\n",
    "    print(\"Hata!!\")"
   ]
  },
  {
   "cell_type": "code",
   "execution_count": 29,
   "metadata": {},
   "outputs": [
    {
     "name": "stdout",
     "output_type": "stream",
     "text": [
      "Karabük\n",
      "\n",
      "Zonguldak\n",
      "\n",
      "İstanbul\n",
      "\n"
     ]
    }
   ],
   "source": [
    "#for döngüsü ile dosya okuma\n",
    "try:\n",
    "    file3=open(\"bilgi.txt\",\"r\",encoding=\"utf-8\")\n",
    "    for i in file3:\n",
    "        print(i)\n",
    "except FileNotFoundError:\n",
    "    print(\"Hata!!\")"
   ]
  },
  {
   "cell_type": "code",
   "execution_count": 30,
   "metadata": {},
   "outputs": [
    {
     "name": "stdout",
     "output_type": "stream",
     "text": [
      "Karabük\n",
      "Zonguldak\n",
      "İstanbul\n"
     ]
    }
   ],
   "source": [
    "#for döngüsü ile dosya okuma\n",
    "try:\n",
    "    file3=open(\"bilgi.txt\",\"r\",encoding=\"utf-8\")\n",
    "    for i in file3:\n",
    "        print(i, end=\"\")\n",
    "except FileNotFoundError:\n",
    "    print(\"Hata!!\")"
   ]
  },
  {
   "cell_type": "code",
   "execution_count": 33,
   "metadata": {},
   "outputs": [
    {
     "name": "stdout",
     "output_type": "stream",
     "text": [
      "Dosya Bilgileri\n",
      "\n",
      "Karabük\n",
      "Zonguldak\n",
      "İstanbul\n",
      "\n"
     ]
    }
   ],
   "source": [
    "#read() fonksiyonu ile okuma\n",
    "file3=open(\"bilgi.txt\",\"r\",encoding=\"utf-8\")\n",
    "oku=file3.read()\n",
    "print(\"Dosya Bilgileri\\n\")\n",
    "print(oku)"
   ]
  },
  {
   "cell_type": "code",
   "execution_count": 34,
   "metadata": {},
   "outputs": [
    {
     "name": "stdout",
     "output_type": "stream",
     "text": [
      "Dosya Bilgileri\n",
      "\n",
      "Karabük\n",
      "\n"
     ]
    }
   ],
   "source": [
    "#readline() fonksiyonu her çağırıldığında bir satır okur\n",
    "file3=open(\"bilgi.txt\",\"r\",encoding=\"utf-8\")\n",
    "oku=file3.readline()\n",
    "print(\"Dosya Bilgileri\\n\")\n",
    "print(oku)"
   ]
  },
  {
   "cell_type": "code",
   "execution_count": 39,
   "metadata": {},
   "outputs": [
    {
     "name": "stdout",
     "output_type": "stream",
     "text": [
      "Karabük\n",
      "\n",
      "Zonguldak\n",
      "\n",
      "İstanbul\n",
      "\n"
     ]
    }
   ],
   "source": [
    "#readline() fonksiyonu her çağırıldığında bir satır okur\n",
    "file3=open(\"bilgi.txt\",\"r\",encoding=\"utf-8\")\n",
    "print(file3.readline())\n",
    "print(file3.readline())\n",
    "print(file3.readline())\n",
    "file3.close()"
   ]
  },
  {
   "cell_type": "code",
   "execution_count": 40,
   "metadata": {},
   "outputs": [
    {
     "name": "stdout",
     "output_type": "stream",
     "text": [
      "['Karabük\\n', 'Zonguldak\\n', 'İstanbul\\n']\n"
     ]
    }
   ],
   "source": [
    "#readlines() fonksiyonu dosya değerlerini listede tutar\n",
    "file3=open(\"bilgi.txt\",\"r\",encoding=\"utf-8\")\n",
    "liste=file3.readlines()\n",
    "print(liste)\n",
    "file3.close()"
   ]
  },
  {
   "cell_type": "markdown",
   "metadata": {},
   "source": [
    "    DOSYALARDA KULLANILAN METODLAR"
   ]
  },
  {
   "cell_type": "code",
   "execution_count": 41,
   "metadata": {},
   "outputs": [
    {
     "name": "stdout",
     "output_type": "stream",
     "text": [
      "Karabük\n",
      "\n",
      "Zonguldak\n",
      "\n",
      "İstanbul\n",
      "\n"
     ]
    }
   ],
   "source": [
    "# otamatik dosya kapatma\n",
    "with open(\"bilgi.txt\",\"r\",encoding=\"utf-8\") as dosya:\n",
    "    for i in dosya:\n",
    "        print(i)\n",
    "        "
   ]
  },
  {
   "cell_type": "code",
   "execution_count": 44,
   "metadata": {},
   "outputs": [
    {
     "name": "stdout",
     "output_type": "stream",
     "text": [
      "0\n"
     ]
    }
   ],
   "source": [
    "# dosya içinde gezinmek (ileri-geri sarmak)\n",
    "with open(\"bilgi.txt\",\"r\",encoding=\"utf-8\") as dosya:\n",
    "    print(dosya.tell())\n",
    "# tell() fonksiyonu dosya değişkeninin yerini belirtir"
   ]
  },
  {
   "cell_type": "code",
   "execution_count": 45,
   "metadata": {},
   "outputs": [
    {
     "name": "stdout",
     "output_type": "stream",
     "text": [
      "10\n"
     ]
    }
   ],
   "source": [
    "# dosya içinde gezinmek (ileri-geri sarmak)\n",
    "with open(\"bilgi.txt\",\"r\",encoding=\"utf-8\") as dosya:\n",
    "    dosya.seek(10)\n",
    "    print(dosya.tell())\n",
    "# seek fonksiyonu ile dosya değişkeninin yerini değiştirebiliriz\n"
   ]
  },
  {
   "cell_type": "code",
   "execution_count": 46,
   "metadata": {},
   "outputs": [],
   "source": [
    "# tell(),seek() fonksiyonlarının kullanımı:\n",
    "file4=open(\"diller.txt\",\"a\",encoding=\"utf-8\")\n",
    "file4.write(\"Python,\")\n",
    "file4.write(\"C,\")\n",
    "file4.write(\"C++,\")\n",
    "file4.write(\"Java,\")\n",
    "file4.close()"
   ]
  },
  {
   "cell_type": "code",
   "execution_count": 47,
   "metadata": {},
   "outputs": [
    {
     "name": "stdout",
     "output_type": "stream",
     "text": [
      "Python,C,C++,Java,\n"
     ]
    }
   ],
   "source": [
    "with open(\"diller.txt\",\"r\",encoding=\"utf-8\") as file:\n",
    "    for i in file:\n",
    "        print(i)"
   ]
  },
  {
   "cell_type": "code",
   "execution_count": 48,
   "metadata": {},
   "outputs": [
    {
     "name": "stdout",
     "output_type": "stream",
     "text": [
      "Python,C,C++,Java,\n"
     ]
    }
   ],
   "source": [
    "with open(\"diller.txt\",\"r\",encoding=\"utf-8\") as file:\n",
    "    print(file.read())"
   ]
  },
  {
   "cell_type": "code",
   "execution_count": 50,
   "metadata": {},
   "outputs": [
    {
     "name": "stdout",
     "output_type": "stream",
     "text": [
      "Python,C,C++,Java,\n"
     ]
    }
   ],
   "source": [
    "with open(\"diller.txt\",\"r\",encoding=\"utf-8\") as file:\n",
    "    print(file.readline())"
   ]
  },
  {
   "cell_type": "code",
   "execution_count": 51,
   "metadata": {},
   "outputs": [
    {
     "name": "stdout",
     "output_type": "stream",
     "text": [
      "['Python,C,C++,Java,']\n"
     ]
    }
   ],
   "source": [
    "with open(\"diller.txt\",\"r\",encoding=\"utf-8\") as file:\n",
    "    print(file.readlines())"
   ]
  },
  {
   "cell_type": "code",
   "execution_count": 54,
   "metadata": {},
   "outputs": [
    {
     "name": "stdout",
     "output_type": "stream",
     "text": [
      "n,C,C+\n"
     ]
    }
   ],
   "source": [
    "with open(\"diller.txt\",\"r\",encoding=\"utf-8\") as file:\n",
    "    file.seek(5) #dosya değişkeni 5. byte da\n",
    "    oku=file.read(6) #5.byte dan sonra 6 karakter oku\n",
    "    print(oku)"
   ]
  },
  {
   "cell_type": "code",
   "execution_count": 55,
   "metadata": {},
   "outputs": [
    {
     "name": "stdout",
     "output_type": "stream",
     "text": [
      "n,C,C+\n",
      "11\n"
     ]
    }
   ],
   "source": [
    "with open(\"diller.txt\",\"r\",encoding=\"utf-8\") as file:\n",
    "    file.seek(5) #dosya değişkeni 5. byte da\n",
    "    oku=file.read(6) #5.byte dan sonra 6 karakter oku\n",
    "    print(oku)\n",
    "    print(file.tell())#dosya değişkeninin kaldığı byte"
   ]
  },
  {
   "cell_type": "code",
   "execution_count": 59,
   "metadata": {},
   "outputs": [],
   "source": [
    "file5=open(\"bolumler.txt\",\"a\",encoding=\"utf-8\")\n",
    "file5.write(\"Bilgisayar,\")\n",
    "file5.write(\"Elektrik,\")\n",
    "file5.write(\"Makine,\")\n",
    "file5.write(\"Mekatronik,\")\n",
    "file5.close()"
   ]
  },
  {
   "cell_type": "code",
   "execution_count": 60,
   "metadata": {},
   "outputs": [
    {
     "name": "stdout",
     "output_type": "stream",
     "text": [
      "Bilgisayar,Elektrik,Makine,Mekatronik,\n"
     ]
    }
   ],
   "source": [
    "#dosyada değişiklik yapma\n",
    "with open(\"bolumler.txt\",\"r+\",encoding=\"utf-8\") as file:\n",
    "    print(file.read())"
   ]
  },
  {
   "cell_type": "code",
   "execution_count": 65,
   "metadata": {},
   "outputs": [],
   "source": [
    "#dosyada değişiklik yapma\n",
    "with open(\"bolumler.txt\",\"a\",encoding=\"utf-8\") as file:\n",
    "    file.write(\"Otomotiv\\n\")\n",
    "#sonuna ekleme"
   ]
  },
  {
   "cell_type": "code",
   "execution_count": 66,
   "metadata": {},
   "outputs": [
    {
     "name": "stdout",
     "output_type": "stream",
     "text": [
      "Bilgisayar,Elektrik,Makine,Mekatronik,Otomotiv\n",
      "\n"
     ]
    }
   ],
   "source": [
    "#dosyada değişiklik yapma\n",
    "with open(\"bolumler.txt\",\"r+\",encoding=\"utf-8\") as file:\n",
    "    print(file.read())\n"
   ]
  },
  {
   "cell_type": "code",
   "execution_count": 68,
   "metadata": {},
   "outputs": [],
   "source": [
    "#dosyada değişiklik yapma\n",
    "with open(\"bolumler.txt\",\"r+\",encoding=\"utf-8\") as file:\n",
    "    içerik=file.read()\n",
    "    içerik=\"Raylı Sistemler\\n\"+içerik\n",
    "    file.seek(0)\n",
    "    file.write(içerik)\n",
    "    #başına ekleme"
   ]
  },
  {
   "cell_type": "code",
   "execution_count": 69,
   "metadata": {},
   "outputs": [
    {
     "name": "stdout",
     "output_type": "stream",
     "text": [
      "Raylı Sistemler\n",
      "Bilgisayar,Elektrik,Makine,Mekatronik,Otomotiv\n",
      "\n"
     ]
    }
   ],
   "source": [
    "#dosyada değişiklik yapma\n",
    "with open(\"bolumler.txt\",\"r+\",encoding=\"utf-8\") as file:\n",
    "    print(file.read())\n",
    "    #başına ekleme"
   ]
  },
  {
   "cell_type": "code",
   "execution_count": 70,
   "metadata": {},
   "outputs": [
    {
     "name": "stdout",
     "output_type": "stream",
     "text": [
      "['Raylı Sistemler\\n', 'Bilgisayar,Elektrik,Makine,Mekatronik,Otomotiv\\n']\n"
     ]
    }
   ],
   "source": [
    "#dosyanın ortasına ekleme yapma\n",
    "with open(\"bolumler.txt\",\"r+\",encoding=\"utf-8\") as file:\n",
    "    liste=file.readlines()\n",
    "    print(liste)"
   ]
  },
  {
   "cell_type": "code",
   "execution_count": 74,
   "metadata": {},
   "outputs": [
    {
     "name": "stdout",
     "output_type": "stream",
     "text": [
      "['Raylı Sistemler\\n', 'Bilgisayar,Elektrik,Makine,Mekatronik,Otomotiv\\n', '\\n', 'Bölümleri\\n']\n"
     ]
    }
   ],
   "source": [
    "with open(\"bolumler.txt\",\"r+\",encoding=\"utf-8\") as file:\n",
    "    liste=file.readlines()\n",
    "    liste.insert(6,\"Bölümleri\\n\")\n",
    "    print(liste)"
   ]
  },
  {
   "cell_type": "code",
   "execution_count": 76,
   "metadata": {},
   "outputs": [],
   "source": [
    "with open(\"bolumler.txt\",\"r+\",encoding=\"utf-8\") as file:\n",
    "    liste=file.readlines()\n",
    "    liste.insert(7,\"Karabük\\n\")\n",
    "    file.seek(0)\n",
    "    for i in liste:\n",
    "        file.write(i)"
   ]
  },
  {
   "cell_type": "code",
   "execution_count": 77,
   "metadata": {},
   "outputs": [
    {
     "name": "stdout",
     "output_type": "stream",
     "text": [
      "Raylı Sistemler\n",
      "Bilgisayar,Elektrik,Makine,Mekatronik,Otomotiv\n",
      "\n",
      "Karabük\n",
      "\n"
     ]
    }
   ],
   "source": [
    "with open(\"bolumler.txt\",\"r+\",encoding=\"utf-8\") as file:\n",
    "    print(file.read())"
   ]
  },
  {
   "cell_type": "code",
   "execution_count": 78,
   "metadata": {},
   "outputs": [],
   "source": [
    "with open(\"bolumler.txt\",\"r+\",encoding=\"utf-8\") as file:\n",
    "    liste=file.readlines()\n",
    "    liste.insert(8,\"Üniversitesi\\n\")\n",
    "    file.seek(0)\n",
    "    file.writelines(liste)"
   ]
  },
  {
   "cell_type": "code",
   "execution_count": 79,
   "metadata": {},
   "outputs": [
    {
     "name": "stdout",
     "output_type": "stream",
     "text": [
      "Raylı Sistemler\n",
      "Bilgisayar,Elektrik,Makine,Mekatronik,Otomotiv\n",
      "\n",
      "Karabük\n",
      "Üniversitesi\n",
      "\n"
     ]
    }
   ],
   "source": [
    "with open(\"bolumler.txt\",\"r+\",encoding=\"utf-8\") as file:\n",
    "    print(file.read())"
   ]
  },
  {
   "cell_type": "code",
   "execution_count": null,
   "metadata": {},
   "outputs": [],
   "source": []
  }
 ],
 "metadata": {
  "kernelspec": {
   "display_name": "Python 3",
   "language": "python",
   "name": "python3"
  },
  "language_info": {
   "codemirror_mode": {
    "name": "ipython",
    "version": 3
   },
   "file_extension": ".py",
   "mimetype": "text/x-python",
   "name": "python",
   "nbconvert_exporter": "python",
   "pygments_lexer": "ipython3",
   "version": "3.7.3"
  }
 },
 "nbformat": 4,
 "nbformat_minor": 2
}
