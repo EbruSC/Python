{
 "cells": [
  {
   "cell_type": "markdown",
   "metadata": {},
   "source": [
    "    MANTIKSAL DEĞERLER VE KARŞILAŞTIRMA OPERATÖRLERİ"
   ]
  },
  {
   "cell_type": "code",
   "execution_count": 2,
   "metadata": {},
   "outputs": [
    {
     "data": {
      "text/plain": [
       "bool"
      ]
     },
     "execution_count": 2,
     "metadata": {},
     "output_type": "execute_result"
    }
   ],
   "source": [
    "#bool veri tipi True ve False değerini alır\n",
    "a=False\n",
    "type(a)"
   ]
  },
  {
   "cell_type": "code",
   "execution_count": 3,
   "metadata": {},
   "outputs": [
    {
     "data": {
      "text/plain": [
       "False"
      ]
     },
     "execution_count": 3,
     "metadata": {},
     "output_type": "execute_result"
    }
   ],
   "source": [
    "#bool(0) ise sadece False değerini alır\n",
    "bool(0)"
   ]
  },
  {
   "cell_type": "code",
   "execution_count": 4,
   "metadata": {},
   "outputs": [
    {
     "data": {
      "text/plain": [
       "True"
      ]
     },
     "execution_count": 4,
     "metadata": {},
     "output_type": "execute_result"
    }
   ],
   "source": [
    "bool(9)"
   ]
  },
  {
   "cell_type": "code",
   "execution_count": 5,
   "metadata": {},
   "outputs": [
    {
     "name": "stdout",
     "output_type": "stream",
     "text": [
      "None\n"
     ]
    }
   ],
   "source": [
    "#değişkene daha sonra değer atamak için None komutu kullanılır\n",
    "a=None \n",
    "print(a)"
   ]
  },
  {
   "cell_type": "code",
   "execution_count": 8,
   "metadata": {},
   "outputs": [
    {
     "data": {
      "text/plain": [
       "True"
      ]
     },
     "execution_count": 8,
     "metadata": {},
     "output_type": "execute_result"
    }
   ],
   "source": [
    "# KARŞILAŞTIRMA OPERATÖRLERİ ( ==,!=,<,>,>=,<= )\n",
    "\"Ebru\"!=\"Ebruu\""
   ]
  },
  {
   "cell_type": "code",
   "execution_count": 7,
   "metadata": {},
   "outputs": [
    {
     "data": {
      "text/plain": [
       "True"
      ]
     },
     "execution_count": 7,
     "metadata": {},
     "output_type": "execute_result"
    }
   ],
   "source": [
    "5>=5"
   ]
  },
  {
   "cell_type": "code",
   "execution_count": 9,
   "metadata": {},
   "outputs": [
    {
     "data": {
      "text/plain": [
       "False"
      ]
     },
     "execution_count": 9,
     "metadata": {},
     "output_type": "execute_result"
    }
   ],
   "source": [
    "[1,2]!=[1,2]"
   ]
  },
  {
   "cell_type": "code",
   "execution_count": 10,
   "metadata": {},
   "outputs": [
    {
     "data": {
      "text/plain": [
       "False"
      ]
     },
     "execution_count": 10,
     "metadata": {},
     "output_type": "execute_result"
    }
   ],
   "source": [
    "\"Karabük\">\"Üniversitesi\" #karakter sıralamasına göre kontrol edilir"
   ]
  },
  {
   "cell_type": "markdown",
   "metadata": {},
   "source": [
    "    MANTIKSAL BAĞLAÇLAR (AND,OR,NOT)\n",
    "İKİ VEYA DAHA FAZLA DURUMU KONTROL ETMEK İÇİN KULLANILIR"
   ]
  },
  {
   "cell_type": "code",
   "execution_count": 11,
   "metadata": {},
   "outputs": [
    {
     "data": {
      "text/plain": [
       "False"
      ]
     },
     "execution_count": 11,
     "metadata": {},
     "output_type": "execute_result"
    }
   ],
   "source": [
    "\n",
    "5<4 and 52>4 # false and true= false"
   ]
  },
  {
   "cell_type": "code",
   "execution_count": 13,
   "metadata": {},
   "outputs": [
    {
     "data": {
      "text/plain": [
       "True"
      ]
     },
     "execution_count": 13,
     "metadata": {},
     "output_type": "execute_result"
    }
   ],
   "source": [
    "\"ebru\"<\"school\" and \"a\"<\"z\""
   ]
  },
  {
   "cell_type": "code",
   "execution_count": 14,
   "metadata": {},
   "outputs": [
    {
     "data": {
      "text/plain": [
       "True"
      ]
     },
     "execution_count": 14,
     "metadata": {},
     "output_type": "execute_result"
    }
   ],
   "source": [
    "5<4 or 52>4"
   ]
  },
  {
   "cell_type": "code",
   "execution_count": 15,
   "metadata": {},
   "outputs": [
    {
     "data": {
      "text/plain": [
       "True"
      ]
     },
     "execution_count": 15,
     "metadata": {},
     "output_type": "execute_result"
    }
   ],
   "source": [
    "\"ebru\"<\"school\" or \"a\"<\"z\""
   ]
  },
  {
   "cell_type": "code",
   "execution_count": 16,
   "metadata": {},
   "outputs": [
    {
     "data": {
      "text/plain": [
       "True"
      ]
     },
     "execution_count": 16,
     "metadata": {},
     "output_type": "execute_result"
    }
   ],
   "source": [
    "2==2"
   ]
  },
  {
   "cell_type": "code",
   "execution_count": 17,
   "metadata": {},
   "outputs": [
    {
     "data": {
      "text/plain": [
       "False"
      ]
     },
     "execution_count": 17,
     "metadata": {},
     "output_type": "execute_result"
    }
   ],
   "source": [
    "not \"Karabük\"<\"Kardemir\" #not(\"Karabük\"<\"Kardemir\")"
   ]
  },
  {
   "cell_type": "code",
   "execution_count": 18,
   "metadata": {},
   "outputs": [
    {
     "data": {
      "text/plain": [
       "False"
      ]
     },
     "execution_count": 18,
     "metadata": {},
     "output_type": "execute_result"
    }
   ],
   "source": [
    "not(5>7 and \"z\">\"t\" or \"k\"==\"k\")"
   ]
  },
  {
   "cell_type": "code",
   "execution_count": 19,
   "metadata": {},
   "outputs": [
    {
     "data": {
      "text/plain": [
       "True"
      ]
     },
     "execution_count": 19,
     "metadata": {},
     "output_type": "execute_result"
    }
   ],
   "source": [
    "not (2.14 > 3.49 or ( 2 != 2 and \"Ebru\" ==\"Ebru\"))"
   ]
  },
  {
   "cell_type": "markdown",
   "metadata": {},
   "source": [
    "    KOŞUL DURUM BLOKLARI ( if-elif-else )"
   ]
  },
  {
   "cell_type": "code",
   "execution_count": 1,
   "metadata": {},
   "outputs": [
    {
     "name": "stdout",
     "output_type": "stream",
     "text": [
      "sayı giriniz5\n",
      "girilen sayı 1 değildir\n"
     ]
    }
   ],
   "source": [
    "sayı=int(input(\"sayı giriniz\"))\n",
    "if(sayı==1):\n",
    "    print(\"girilen sayı 1 dir\")\n",
    "else:\n",
    "    print(\"girilen sayı 1 değildir\")"
   ]
  },
  {
   "cell_type": "code",
   "execution_count": 2,
   "metadata": {},
   "outputs": [
    {
     "name": "stdout",
     "output_type": "stream",
     "text": [
      "sayı giriniz-8\n",
      "Negatif\n"
     ]
    }
   ],
   "source": [
    "sayı=int(input(\"sayı giriniz\"))\n",
    "if(sayı<0):\n",
    "    print(\"Negatif\")\n",
    "else:\n",
    "    print(\"Pozitif\")"
   ]
  },
  {
   "cell_type": "code",
   "execution_count": 4,
   "metadata": {},
   "outputs": [
    {
     "name": "stdout",
     "output_type": "stream",
     "text": [
      "sayı giriniz0\n",
      "Sıfırdır\n"
     ]
    }
   ],
   "source": [
    "sayı=int(input(\"sayı giriniz\"))\n",
    "if(sayı<0):\n",
    "    print(\"Negatif\")\n",
    "elif(sayı==0):\n",
    "    print(\"Sıfırdır\")\n",
    "else:\n",
    "    print(\"Pozitif\")"
   ]
  },
  {
   "cell_type": "code",
   "execution_count": 6,
   "metadata": {},
   "outputs": [
    {
     "name": "stdout",
     "output_type": "stream",
     "text": [
      "işlem numarası seçiniz:3\n",
      "3.işlem seçildi\n"
     ]
    }
   ],
   "source": [
    "sayı=int(input(\"işlem numarası seçiniz:\"))\n",
    "if(sayı==1):\n",
    "    print(\"1.işlem seçildi\")\n",
    "elif(sayı==2):\n",
    "    print(\"2.işlem seçildi\")\n",
    "elif(sayı==3):\n",
    "    print(\"3.işlem seçildi\")\n",
    "elif(sayı==4):\n",
    "    print(\"4.işlem seçildi\")\n",
    "else:\n",
    "    print(\"Geçerli işlem seçilmedi!!\")"
   ]
  },
  {
   "cell_type": "code",
   "execution_count": 7,
   "metadata": {},
   "outputs": [
    {
     "name": "stdout",
     "output_type": "stream",
     "text": [
      "işlem numarası seçiniz:5\n",
      "Geçerli işlem seçilmedi!!\n"
     ]
    }
   ],
   "source": [
    "sayı=int(input(\"işlem numarası seçiniz:\"))\n",
    "if(sayı==1):\n",
    "    print(\"1.işlem seçildi\")\n",
    "elif(sayı==2):\n",
    "    print(\"2.işlem seçildi\")\n",
    "elif(sayı==3):\n",
    "    print(\"3.işlem seçildi\")\n",
    "elif(sayı==4):\n",
    "    print(\"4.işlem seçildi\")\n",
    "else:\n",
    "    print(\"Geçerli işlem seçilmedi!!\")"
   ]
  },
  {
   "cell_type": "code",
   "execution_count": 8,
   "metadata": {},
   "outputs": [
    {
     "name": "stdout",
     "output_type": "stream",
     "text": [
      "Harf notunuzu girin:55\n",
      "C\n"
     ]
    }
   ],
   "source": [
    "notu=int(input(\"Harf notunuzu girin:\"))\n",
    "if(notu<=100 and notu>85):\n",
    "    print(\"A\")\n",
    "elif(notu<=85 and notu>65):\n",
    "    print(\"B\")\n",
    "elif(notu<=65 and notu>45):\n",
    "    print(\"C\")\n",
    "elif(notu<=45 and notu>25):\n",
    "    print(\"D\")\n",
    "else:\n",
    "    print(\"KALDINIZ!!\")\n"
   ]
  },
  {
   "cell_type": "code",
   "execution_count": 9,
   "metadata": {},
   "outputs": [
    {
     "name": "stdout",
     "output_type": "stream",
     "text": [
      "Harf notunuzu girin:91\n",
      "A\n"
     ]
    }
   ],
   "source": [
    "notu=int(input(\"Harf notunuzu girin:\"))\n",
    "if(notu<=100 and notu>85):\n",
    "    print(\"A\")\n",
    "elif(notu<=85 and notu>65):\n",
    "    print(\"B\")\n",
    "elif(notu<=65 and notu>45):\n",
    "    print(\"C\")\n",
    "elif(notu<=45 and notu>25):\n",
    "    print(\"D\")\n",
    "else:\n",
    "    print(\"KALDINIZ!!\")"
   ]
  },
  {
   "cell_type": "code",
   "execution_count": null,
   "metadata": {},
   "outputs": [],
   "source": []
  }
 ],
 "metadata": {
  "kernelspec": {
   "display_name": "Python 3",
   "language": "python",
   "name": "python3"
  },
  "language_info": {
   "codemirror_mode": {
    "name": "ipython",
    "version": 3
   },
   "file_extension": ".py",
   "mimetype": "text/x-python",
   "name": "python",
   "nbconvert_exporter": "python",
   "pygments_lexer": "ipython3",
   "version": "3.7.3"
  }
 },
 "nbformat": 4,
 "nbformat_minor": 2
}
